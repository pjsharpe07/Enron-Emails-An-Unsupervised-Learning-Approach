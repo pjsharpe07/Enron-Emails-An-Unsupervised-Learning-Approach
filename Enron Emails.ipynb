{
 "cells": [
  {
   "cell_type": "markdown",
   "metadata": {},
   "source": [
    "# Enron Emails"
   ]
  },
  {
   "cell_type": "markdown",
   "metadata": {},
   "source": [
    "This dataset contains approximately 50,000 emails from enron executives. Information and the dataset can be found [here](https://www.cs.cmu.edu/~enron/)."
   ]
  },
  {
   "cell_type": "code",
   "execution_count": 1,
   "metadata": {},
   "outputs": [],
   "source": [
    "import numpy as np\n",
    "import pandas as pd\n",
    "import matplotlib.pyplot as plt\n",
    "%matplotlib inline\n",
    "import seaborn as sns"
   ]
  },
  {
   "cell_type": "code",
   "execution_count": 13,
   "metadata": {},
   "outputs": [],
   "source": [
    "data = pd.read_csv('emails.csv.zip')"
   ]
  },
  {
   "cell_type": "code",
   "execution_count": 14,
   "metadata": {},
   "outputs": [
    {
     "data": {
      "text/html": [
       "<div>\n",
       "<style scoped>\n",
       "    .dataframe tbody tr th:only-of-type {\n",
       "        vertical-align: middle;\n",
       "    }\n",
       "\n",
       "    .dataframe tbody tr th {\n",
       "        vertical-align: top;\n",
       "    }\n",
       "\n",
       "    .dataframe thead th {\n",
       "        text-align: right;\n",
       "    }\n",
       "</style>\n",
       "<table border=\"1\" class=\"dataframe\">\n",
       "  <thead>\n",
       "    <tr style=\"text-align: right;\">\n",
       "      <th></th>\n",
       "      <th>file</th>\n",
       "      <th>message</th>\n",
       "    </tr>\n",
       "  </thead>\n",
       "  <tbody>\n",
       "    <tr>\n",
       "      <td>0</td>\n",
       "      <td>allen-p/_sent_mail/1.</td>\n",
       "      <td>Message-ID: &lt;18782981.1075855378110.JavaMail.e...</td>\n",
       "    </tr>\n",
       "    <tr>\n",
       "      <td>1</td>\n",
       "      <td>allen-p/_sent_mail/10.</td>\n",
       "      <td>Message-ID: &lt;15464986.1075855378456.JavaMail.e...</td>\n",
       "    </tr>\n",
       "    <tr>\n",
       "      <td>2</td>\n",
       "      <td>allen-p/_sent_mail/100.</td>\n",
       "      <td>Message-ID: &lt;24216240.1075855687451.JavaMail.e...</td>\n",
       "    </tr>\n",
       "    <tr>\n",
       "      <td>3</td>\n",
       "      <td>allen-p/_sent_mail/1000.</td>\n",
       "      <td>Message-ID: &lt;13505866.1075863688222.JavaMail.e...</td>\n",
       "    </tr>\n",
       "    <tr>\n",
       "      <td>4</td>\n",
       "      <td>allen-p/_sent_mail/1001.</td>\n",
       "      <td>Message-ID: &lt;30922949.1075863688243.JavaMail.e...</td>\n",
       "    </tr>\n",
       "  </tbody>\n",
       "</table>\n",
       "</div>"
      ],
      "text/plain": [
       "                       file                                            message\n",
       "0     allen-p/_sent_mail/1.  Message-ID: <18782981.1075855378110.JavaMail.e...\n",
       "1    allen-p/_sent_mail/10.  Message-ID: <15464986.1075855378456.JavaMail.e...\n",
       "2   allen-p/_sent_mail/100.  Message-ID: <24216240.1075855687451.JavaMail.e...\n",
       "3  allen-p/_sent_mail/1000.  Message-ID: <13505866.1075863688222.JavaMail.e...\n",
       "4  allen-p/_sent_mail/1001.  Message-ID: <30922949.1075863688243.JavaMail.e..."
      ]
     },
     "execution_count": 14,
     "metadata": {},
     "output_type": "execute_result"
    }
   ],
   "source": [
    "data.head()"
   ]
  },
  {
   "cell_type": "code",
   "execution_count": 15,
   "metadata": {},
   "outputs": [
    {
     "name": "stdout",
     "output_type": "stream",
     "text": [
      "Message-ID: <15464986.1075855378456.JavaMail.evans@thyme>\n",
      "Date: Fri, 4 May 2001 13:51:00 -0700 (PDT)\n",
      "From: phillip.allen@enron.com\n",
      "To: john.lavorato@enron.com\n",
      "Subject: Re:\n",
      "Mime-Version: 1.0\n",
      "Content-Type: text/plain; charset=us-ascii\n",
      "Content-Transfer-Encoding: 7bit\n",
      "X-From: Phillip K Allen\n",
      "X-To: John J Lavorato <John J Lavorato/ENRON@enronXgate@ENRON>\n",
      "X-cc: \n",
      "X-bcc: \n",
      "X-Folder: \\Phillip_Allen_Jan2002_1\\Allen, Phillip K.\\'Sent Mail\n",
      "X-Origin: Allen-P\n",
      "X-FileName: pallen (Non-Privileged).pst\n",
      "\n",
      "Traveling to have a business meeting takes the fun out of the trip.  Especially if you have to prepare a presentation.  I would suggest holding the business plan meetings here then take a trip without any formal business meetings.  I would even try and get some honest opinions on whether a trip is even desired or necessary.\n",
      "\n",
      "As far as the business meetings, I think it would be more productive to try and stimulate discussions across the different groups about what is working and what is not.  Too often the presenter speaks and the others are quiet just waiting for their turn.   The meetings might be better if held in a round table discussion format.  \n",
      "\n",
      "My suggestion for where to go is Austin.  Play golf and rent a ski boat and jet ski's.  Flying somewhere takes too much time.\n",
      "\n"
     ]
    }
   ],
   "source": [
    "print(data['message'][1])"
   ]
  },
  {
   "cell_type": "markdown",
   "metadata": {},
   "source": [
    "__So, the emails are arranged in one big string. We'll have to parse out this data to use it.__\n",
    "\n",
    "__We'll find the to and from emails, the sender and receiver, the subject line (if any), and the body of the email.__"
   ]
  },
  {
   "cell_type": "code",
   "execution_count": 16,
   "metadata": {},
   "outputs": [],
   "source": [
    "#these are going to be the lists we append to, that will become the columns of our dataframe\n",
    "from_email = []\n",
    "to_email = []\n",
    "subject_text = []\n",
    "sender = []\n",
    "receiver = []\n",
    "message = []\n",
    "\n",
    "#parse out the different parts of the message to become parts of our dataframe\n",
    "for i in range(len(data.message)):\n",
    "    #indexes\n",
    "    first_from = data['message'][i].find('From:') + 6\n",
    "    first_to = data['message'][i].find('To:')\n",
    "    subject = data['message'][i].find('Subject:')\n",
    "    mime = data['message'][i].find('Mime-')\n",
    "    \n",
    "    #the actual values\n",
    "    from_email.append(data['message'][i][first_from : first_to].strip())\n",
    "    to_email.append(data['message'][i][first_to + 3 : subject].strip())\n",
    "    subject_text.append(data['message'][i][subject + 8 : mime].strip())\n",
    "    \n",
    "    #second batch of indexes to help us find the second from and to\n",
    "    second_from = data['message'][i].find('From:', first_from) + 6\n",
    "    second_to = data['message'][i].find('X-To:', subject)\n",
    "    cc = data['message'][i].find('X-cc')\n",
    "    \n",
    "    #senders and receivers\n",
    "    sender.append(data['message'][i][second_from : second_to].strip())\n",
    "    receiver.append(data['message'][i][second_to + 5 : cc].strip())\n",
    "    \n",
    "    #now find the messages\n",
    "    filename = data.message[i].find('X-FileName')\n",
    "    space = data.message[i].find('\\n', filename)\n",
    "    message.append(data.message[i][space:])"
   ]
  },
  {
   "cell_type": "code",
   "execution_count": 17,
   "metadata": {},
   "outputs": [],
   "source": [
    "#create our new df and append the values\n",
    "big_df = pd.DataFrame()\n",
    "\n",
    "big_df['from_email'] = from_email\n",
    "big_df['to_email'] = to_email\n",
    "big_df['subject'] = subject_text\n",
    "big_df['sender'] = sender\n",
    "big_df['receiver'] = receiver\n",
    "big_df['message'] =  message"
   ]
  },
  {
   "cell_type": "markdown",
   "metadata": {},
   "source": [
    "__Let's make its own csv, so we don't have to run the code again.__"
   ]
  },
  {
   "cell_type": "code",
   "execution_count": 18,
   "metadata": {},
   "outputs": [],
   "source": [
    "big_df.to_csv('parsed_emails.csv', index=False)"
   ]
  },
  {
   "cell_type": "markdown",
   "metadata": {},
   "source": [
    "# Parsed Dataframe"
   ]
  },
  {
   "cell_type": "markdown",
   "metadata": {},
   "source": [
    "Now that we have our original messages parsed into different groups. Let's do some light exploration to decide how best to clean and eventually split our data."
   ]
  },
  {
   "cell_type": "code",
   "execution_count": 2,
   "metadata": {
    "scrolled": true
   },
   "outputs": [],
   "source": [
    "large_df = pd.read_csv('parsed_emails.csv')"
   ]
  },
  {
   "cell_type": "code",
   "execution_count": 3,
   "metadata": {},
   "outputs": [
    {
     "data": {
      "text/html": [
       "<div>\n",
       "<style scoped>\n",
       "    .dataframe tbody tr th:only-of-type {\n",
       "        vertical-align: middle;\n",
       "    }\n",
       "\n",
       "    .dataframe tbody tr th {\n",
       "        vertical-align: top;\n",
       "    }\n",
       "\n",
       "    .dataframe thead th {\n",
       "        text-align: right;\n",
       "    }\n",
       "</style>\n",
       "<table border=\"1\" class=\"dataframe\">\n",
       "  <thead>\n",
       "    <tr style=\"text-align: right;\">\n",
       "      <th></th>\n",
       "      <th>from_email</th>\n",
       "      <th>to_email</th>\n",
       "      <th>subject</th>\n",
       "      <th>sender</th>\n",
       "      <th>receiver</th>\n",
       "      <th>message</th>\n",
       "    </tr>\n",
       "  </thead>\n",
       "  <tbody>\n",
       "    <tr>\n",
       "      <td>0</td>\n",
       "      <td>phillip.allen@enron.com</td>\n",
       "      <td>tim.belden@enron.com</td>\n",
       "      <td>NaN</td>\n",
       "      <td>Phillip K Allen</td>\n",
       "      <td>Tim Belden &lt;Tim Belden/Enron@EnronXGate&gt;</td>\n",
       "      <td>\\n\\nHere is our forecast\\n\\n</td>\n",
       "    </tr>\n",
       "    <tr>\n",
       "      <td>1</td>\n",
       "      <td>phillip.allen@enron.com</td>\n",
       "      <td>john.lavorato@enron.com</td>\n",
       "      <td>Re:</td>\n",
       "      <td>Phillip K Allen</td>\n",
       "      <td>John J Lavorato &lt;John J Lavorato/ENRON@enronXg...</td>\n",
       "      <td>\\n\\nTraveling to have a business meeting takes...</td>\n",
       "    </tr>\n",
       "    <tr>\n",
       "      <td>2</td>\n",
       "      <td>phillip.allen@enron.com</td>\n",
       "      <td>leah.arsdall@enron.com</td>\n",
       "      <td>Re: test</td>\n",
       "      <td>Phillip K Allen</td>\n",
       "      <td>Leah Van Arsdall</td>\n",
       "      <td>\\n\\ntest successful.  way to go!!!</td>\n",
       "    </tr>\n",
       "    <tr>\n",
       "      <td>3</td>\n",
       "      <td>phillip.allen@enron.com</td>\n",
       "      <td>randall.gay@enron.com</td>\n",
       "      <td>NaN</td>\n",
       "      <td>Phillip K Allen</td>\n",
       "      <td>Randall L Gay</td>\n",
       "      <td>\\n\\nRandy,\\n\\n Can you send me a schedule of t...</td>\n",
       "    </tr>\n",
       "    <tr>\n",
       "      <td>4</td>\n",
       "      <td>phillip.allen@enron.com</td>\n",
       "      <td>greg.piper@enron.com</td>\n",
       "      <td>Re: Hello</td>\n",
       "      <td>Phillip K Allen</td>\n",
       "      <td>Greg Piper</td>\n",
       "      <td>\\n\\nLet's shoot for Tuesday at 11:45.</td>\n",
       "    </tr>\n",
       "  </tbody>\n",
       "</table>\n",
       "</div>"
      ],
      "text/plain": [
       "                from_email                 to_email    subject  \\\n",
       "0  phillip.allen@enron.com     tim.belden@enron.com        NaN   \n",
       "1  phillip.allen@enron.com  john.lavorato@enron.com        Re:   \n",
       "2  phillip.allen@enron.com   leah.arsdall@enron.com   Re: test   \n",
       "3  phillip.allen@enron.com    randall.gay@enron.com        NaN   \n",
       "4  phillip.allen@enron.com     greg.piper@enron.com  Re: Hello   \n",
       "\n",
       "            sender                                           receiver  \\\n",
       "0  Phillip K Allen           Tim Belden <Tim Belden/Enron@EnronXGate>   \n",
       "1  Phillip K Allen  John J Lavorato <John J Lavorato/ENRON@enronXg...   \n",
       "2  Phillip K Allen                                   Leah Van Arsdall   \n",
       "3  Phillip K Allen                                      Randall L Gay   \n",
       "4  Phillip K Allen                                         Greg Piper   \n",
       "\n",
       "                                             message  \n",
       "0                      \\n\\nHere is our forecast\\n\\n   \n",
       "1  \\n\\nTraveling to have a business meeting takes...  \n",
       "2                 \\n\\ntest successful.  way to go!!!  \n",
       "3  \\n\\nRandy,\\n\\n Can you send me a schedule of t...  \n",
       "4            \\n\\nLet's shoot for Tuesday at 11:45.    "
      ]
     },
     "execution_count": 3,
     "metadata": {},
     "output_type": "execute_result"
    }
   ],
   "source": [
    "large_df.head()"
   ]
  },
  {
   "cell_type": "markdown",
   "metadata": {},
   "source": [
    "__Ok, now that we've combined our df, let's remove some characters.__"
   ]
  },
  {
   "cell_type": "code",
   "execution_count": 4,
   "metadata": {
    "scrolled": true
   },
   "outputs": [],
   "source": [
    "characters = ['\\n', '\\t', \"'\", '\"\"', \"*\", \",\", \"=\", \"@\", \"-\", '2001', '2000', 'hou', 'com', 'pmto', 'subject', 'forwarded', '01', 'pm', '04', '03', '11', '02', '10', '12', '09', '05', '08', '07']\n",
    "\n",
    "#remove some characters from our text\n",
    "for character in characters:\n",
    "    large_df.message = large_df.message.apply(lambda x: str(x).replace(character, ''))\n",
    "\n",
    "    #make our text lowercase\n",
    "large_df.message = large_df.message.apply(lambda x: str(x).lower())"
   ]
  },
  {
   "cell_type": "code",
   "execution_count": 5,
   "metadata": {},
   "outputs": [],
   "source": [
    "#new feature -> length of message!\n",
    "large_df['message_length'] = large_df['message'].apply(lambda x: len(x))"
   ]
  },
  {
   "cell_type": "markdown",
   "metadata": {},
   "source": [
    "__We only need ten authors, but which ones to choose? Let's go with the ten who have the most emails. We'll check to see what they're average email length is after that to confirm.__"
   ]
  },
  {
   "cell_type": "code",
   "execution_count": 6,
   "metadata": {
    "scrolled": true
   },
   "outputs": [],
   "source": [
    "top_ten = large_df.groupby('from_email').count().sort_values(by='to_email', ascending=False).index[:10].tolist()"
   ]
  },
  {
   "cell_type": "code",
   "execution_count": 7,
   "metadata": {},
   "outputs": [
    {
     "data": {
      "text/plain": [
       "['kay.mann@enron.com',\n",
       " 'vince.kaminski@enron.com',\n",
       " 'jeff.dasovich@enron.com',\n",
       " 'pete.davis@enron.com',\n",
       " 'sara.shackleton@enron.com',\n",
       " 'chris.germany@enron.com',\n",
       " 'enron.announcements@enron.com',\n",
       " 'tana.jones@enron.com',\n",
       " 'steven.kean@enron.com',\n",
       " 'kate.symes@enron.com']"
      ]
     },
     "execution_count": 7,
     "metadata": {},
     "output_type": "execute_result"
    }
   ],
   "source": [
    "top_ten"
   ]
  },
  {
   "cell_type": "markdown",
   "metadata": {},
   "source": [
    "__Ok, here are our top ten. Let's make a new dataframe of just these.__"
   ]
  },
  {
   "cell_type": "code",
   "execution_count": 8,
   "metadata": {},
   "outputs": [],
   "source": [
    "#first email address\n",
    "combined_df = large_df.loc[large_df['from_email'] == top_ten[0]]\n",
    "\n",
    "for i in range(1, len(top_ten)):\n",
    "    #next email address in range\n",
    "    temp_df = large_df.loc[large_df['from_email'] == top_ten[i]]\n",
    "    #add the temp df to our old one\n",
    "    combined_df = combined_df.append(temp_df, ignore_index=True)"
   ]
  },
  {
   "cell_type": "code",
   "execution_count": 9,
   "metadata": {},
   "outputs": [
    {
     "data": {
      "text/plain": [
       "(97767, 7)"
      ]
     },
     "execution_count": 9,
     "metadata": {},
     "output_type": "execute_result"
    }
   ],
   "source": [
    "combined_df.shape"
   ]
  },
  {
   "cell_type": "code",
   "execution_count": 10,
   "metadata": {
    "scrolled": true
   },
   "outputs": [
    {
     "data": {
      "text/plain": [
       "from_email\n",
       "chris.germany@enron.com           854.127044\n",
       "enron.announcements@enron.com    2038.479888\n",
       "jeff.dasovich@enron.com          1992.913937\n",
       "kate.symes@enron.com              736.704692\n",
       "kay.mann@enron.com               1126.075713\n",
       "pete.davis@enron.com              693.312602\n",
       "sara.shackleton@enron.com        1178.443759\n",
       "steven.kean@enron.com            2402.836334\n",
       "tana.jones@enron.com              958.467622\n",
       "vince.kaminski@enron.com         1433.859725\n",
       "Name: message_length, dtype: float64"
      ]
     },
     "execution_count": 10,
     "metadata": {},
     "output_type": "execute_result"
    }
   ],
   "source": [
    "#let's see what they're average message length is.\n",
    "combined_df.groupby('from_email')['message_length'].mean()"
   ]
  },
  {
   "cell_type": "markdown",
   "metadata": {},
   "source": [
    "__These are all pretty decent lengths! Now we need to break apart every message into its unique sentences.__"
   ]
  },
  {
   "cell_type": "code",
   "execution_count": 11,
   "metadata": {},
   "outputs": [],
   "source": [
    "#replace questions and exclamations with periods to use for splitting\n",
    "combined_df['message'] = combined_df['message'].apply(lambda x: x.replace('?', '.'))\n",
    "combined_df['message'] = combined_df['message'].apply(lambda x: x.replace('!', '.'))"
   ]
  },
  {
   "cell_type": "code",
   "execution_count": 12,
   "metadata": {},
   "outputs": [],
   "source": [
    "#create a list of each individual sentence and each individual sender_email\n",
    "sender_email = []\n",
    "sentences = []\n",
    "\n",
    "for name in top_ten:\n",
    "    #loop through each author\n",
    "    temp_df = combined_df.loc[combined_df['from_email'] == name]\n",
    "    #parse each message into unique sentences and add them to the list\n",
    "    for message in temp_df.message:\n",
    "        sentence_split = message.split('.')\n",
    "        for sentence in sentence_split:\n",
    "            sentences.append(sentence)\n",
    "            sender_email.append(name)"
   ]
  },
  {
   "cell_type": "code",
   "execution_count": 13,
   "metadata": {},
   "outputs": [],
   "source": [
    "#our new df!\n",
    "df = pd.DataFrame()\n",
    "df['author'] = sender_email\n",
    "df['sentence'] = sentences"
   ]
  },
  {
   "cell_type": "code",
   "execution_count": 14,
   "metadata": {},
   "outputs": [
    {
     "data": {
      "text/html": [
       "<div>\n",
       "<style scoped>\n",
       "    .dataframe tbody tr th:only-of-type {\n",
       "        vertical-align: middle;\n",
       "    }\n",
       "\n",
       "    .dataframe tbody tr th {\n",
       "        vertical-align: top;\n",
       "    }\n",
       "\n",
       "    .dataframe thead th {\n",
       "        text-align: right;\n",
       "    }\n",
       "</style>\n",
       "<table border=\"1\" class=\"dataframe\">\n",
       "  <thead>\n",
       "    <tr style=\"text-align: right;\">\n",
       "      <th></th>\n",
       "      <th>author</th>\n",
       "      <th>sentence</th>\n",
       "    </tr>\n",
       "  </thead>\n",
       "  <tbody>\n",
       "    <tr>\n",
       "      <td>0</td>\n",
       "      <td>kay.mann@enron.com</td>\n",
       "      <td>we are in a loop</td>\n",
       "    </tr>\n",
       "    <tr>\n",
       "      <td>1</td>\n",
       "      <td>kay.mann@enron.com</td>\n",
       "      <td>we need a process to deal with this</td>\n",
       "    </tr>\n",
       "  </tbody>\n",
       "</table>\n",
       "</div>"
      ],
      "text/plain": [
       "               author                               sentence\n",
       "0  kay.mann@enron.com                       we are in a loop\n",
       "1  kay.mann@enron.com    we need a process to deal with this"
      ]
     },
     "execution_count": 14,
     "metadata": {},
     "output_type": "execute_result"
    }
   ],
   "source": [
    "df.head(2)"
   ]
  },
  {
   "cell_type": "markdown",
   "metadata": {},
   "source": [
    "__Ok! Our new df of each sentence is created. Let's dig deeper into these messages.__"
   ]
  },
  {
   "cell_type": "code",
   "execution_count": 15,
   "metadata": {},
   "outputs": [
    {
     "data": {
      "text/plain": [
       "count    1.969291e+06\n",
       "mean     6.543401e+01\n",
       "std      1.033050e+02\n",
       "min      0.000000e+00\n",
       "25%      1.000000e+01\n",
       "50%      3.800000e+01\n",
       "75%      9.000000e+01\n",
       "max      1.026700e+04\n",
       "Name: message_length, dtype: float64"
      ]
     },
     "execution_count": 15,
     "metadata": {},
     "output_type": "execute_result"
    }
   ],
   "source": [
    "df['message_length'] = df['sentence'].apply(lambda x: len(x))\n",
    "\n",
    "df['message_length'].describe()"
   ]
  },
  {
   "cell_type": "code",
   "execution_count": 16,
   "metadata": {},
   "outputs": [
    {
     "data": {
      "image/png": "[encoded data removed]",
      "text/plain": [
       "<Figure size 1296x432 with 2 Axes>"
      ]
     },
     "metadata": {
      "needs_background": "light"
     },
     "output_type": "display_data"
    }
   ],
   "source": [
    "plt.figure(figsize=(18, 6))\n",
    "\n",
    "plt.subplot(1, 2, 1)\n",
    "sns.distplot(df.message_length)\n",
    "plt.title('Message Length')\n",
    "\n",
    "plt.subplot(1, 2, 2)\n",
    "sns.boxplot(df.message_length)\n",
    "plt.title('Message Length')\n",
    "\n",
    "plt.show()"
   ]
  },
  {
   "cell_type": "markdown",
   "metadata": {},
   "source": [
    "__Wow! We have a lot of outliers for our message length. Let's clean that up some.__"
   ]
  },
  {
   "cell_type": "code",
   "execution_count": 17,
   "metadata": {},
   "outputs": [
    {
     "data": {
      "text/plain": [
       "author\n",
       "chris.germany@enron.com          54.711819\n",
       "enron.announcements@enron.com    83.354627\n",
       "jeff.dasovich@enron.com          62.803229\n",
       "kate.symes@enron.com             66.175301\n",
       "kay.mann@enron.com               62.258245\n",
       "pete.davis@enron.com             39.016039\n",
       "sara.shackleton@enron.com        64.473562\n",
       "steven.kean@enron.com            86.145775\n",
       "tana.jones@enron.com             86.522927\n",
       "vince.kaminski@enron.com         60.636923\n",
       "Name: message_length, dtype: float64"
      ]
     },
     "execution_count": 17,
     "metadata": {},
     "output_type": "execute_result"
    }
   ],
   "source": [
    "df.groupby('author')['message_length'].mean()"
   ]
  },
  {
   "cell_type": "code",
   "execution_count": 18,
   "metadata": {},
   "outputs": [
    {
     "data": {
      "text/plain": [
       "count    1.969291e+06\n",
       "mean     6.543401e+01\n",
       "std      1.033050e+02\n",
       "min      0.000000e+00\n",
       "25%      1.000000e+01\n",
       "50%      3.800000e+01\n",
       "75%      9.000000e+01\n",
       "max      1.026700e+04\n",
       "Name: message_length, dtype: float64"
      ]
     },
     "execution_count": 18,
     "metadata": {},
     "output_type": "execute_result"
    }
   ],
   "source": [
    "df['message_length'].describe()"
   ]
  },
  {
   "cell_type": "code",
   "execution_count": 19,
   "metadata": {},
   "outputs": [],
   "source": [
    "#Only include messages greater than 10 and less than 200\n",
    "df = df.loc[(df.message_length >= 55) & (df.message_length < 200)]"
   ]
  },
  {
   "cell_type": "code",
   "execution_count": 20,
   "metadata": {},
   "outputs": [
    {
     "data": {
      "text/plain": [
       "count    682065.000000\n",
       "mean        105.638750\n",
       "std          37.885533\n",
       "min          55.000000\n",
       "25%          74.000000\n",
       "50%          97.000000\n",
       "75%         132.000000\n",
       "max         199.000000\n",
       "Name: message_length, dtype: float64"
      ]
     },
     "execution_count": 20,
     "metadata": {},
     "output_type": "execute_result"
    }
   ],
   "source": [
    "#let's review the results again\n",
    "df.message_length.describe()"
   ]
  },
  {
   "cell_type": "code",
   "execution_count": 21,
   "metadata": {},
   "outputs": [
    {
     "data": {
      "image/png": "[encoded data removed]",
      "text/plain": [
       "<Figure size 1296x432 with 2 Axes>"
      ]
     },
     "metadata": {
      "needs_background": "light"
     },
     "output_type": "display_data"
    }
   ],
   "source": [
    "plt.figure(figsize=(18, 6))\n",
    "\n",
    "plt.subplot(1, 2, 1)\n",
    "sns.distplot(df.message_length)\n",
    "plt.title('Message Length')\n",
    "\n",
    "plt.subplot(1, 2, 2)\n",
    "sns.boxplot(df.message_length)\n",
    "plt.title('Message Length')\n",
    "\n",
    "plt.show()"
   ]
  },
  {
   "cell_type": "code",
   "execution_count": 22,
   "metadata": {},
   "outputs": [
    {
     "data": {
      "text/plain": [
       "(682065, 3)"
      ]
     },
     "execution_count": 22,
     "metadata": {},
     "output_type": "execute_result"
    }
   ],
   "source": [
    "df.shape"
   ]
  },
  {
   "cell_type": "markdown",
   "metadata": {},
   "source": [
    "__This is still a huge data set, especially considering the computational limitations I use. Let's only use a certain percent of it of our dataframe.__"
   ]
  },
  {
   "cell_type": "code",
   "execution_count": 23,
   "metadata": {},
   "outputs": [],
   "source": [
    "from sklearn.model_selection import train_test_split\n",
    "\n",
    "#split our features and targets\n",
    "features = df[['sentence', 'message_length']]\n",
    "target = df['author']\n",
    "\n",
    "#only use 15% of our dataset\n",
    "feature_tossed, features, target_tossed, target = train_test_split(features, target, test_size=0.15, random_state=42)"
   ]
  },
  {
   "cell_type": "code",
   "execution_count": 24,
   "metadata": {},
   "outputs": [
    {
     "data": {
      "text/plain": [
       "(102310, 2)"
      ]
     },
     "execution_count": 24,
     "metadata": {},
     "output_type": "execute_result"
    }
   ],
   "source": [
    "features.shape"
   ]
  },
  {
   "cell_type": "markdown",
   "metadata": {},
   "source": [
    "__How does our split of author representation compare with our original dataframe?__"
   ]
  },
  {
   "cell_type": "code",
   "execution_count": 25,
   "metadata": {},
   "outputs": [
    {
     "data": {
      "text/plain": [
       "vince.kaminski@enron.com         16.183169\n",
       "jeff.dasovich@enron.com          15.862575\n",
       "kay.mann@enron.com               14.597791\n",
       "enron.announcements@enron.com    14.382758\n",
       "steven.kean@enron.com            10.451569\n",
       "sara.shackleton@enron.com         7.832079\n",
       "pete.davis@enron.com              6.393314\n",
       "chris.germany@enron.com           5.849868\n",
       "tana.jones@enron.com              4.966279\n",
       "kate.symes@enron.com              3.480598\n",
       "Name: author, dtype: float64"
      ]
     },
     "execution_count": 25,
     "metadata": {},
     "output_type": "execute_result"
    }
   ],
   "source": [
    "test = pd.concat([features, target], axis=1)\n",
    "\n",
    "test.author.value_counts() / len(test) * 100"
   ]
  },
  {
   "cell_type": "code",
   "execution_count": 26,
   "metadata": {},
   "outputs": [
    {
     "data": {
      "text/plain": [
       "vince.kaminski@enron.com         16.135266\n",
       "jeff.dasovich@enron.com          15.770344\n",
       "kay.mann@enron.com               14.624266\n",
       "enron.announcements@enron.com    14.431029\n",
       "steven.kean@enron.com            10.432583\n",
       "sara.shackleton@enron.com         7.876669\n",
       "pete.davis@enron.com              6.341624\n",
       "chris.germany@enron.com           5.915419\n",
       "tana.jones@enron.com              5.016824\n",
       "kate.symes@enron.com              3.455976\n",
       "Name: author, dtype: float64"
      ]
     },
     "execution_count": 26,
     "metadata": {},
     "output_type": "execute_result"
    }
   ],
   "source": [
    "df['author'].value_counts() / len(df) * 100"
   ]
  },
  {
   "cell_type": "markdown",
   "metadata": {},
   "source": [
    "__Ok, our split seems to mimic the same balance as our original df.__\n",
    "\n",
    "__It's time to vectorize our data and start our unsupervised learning!__"
   ]
  },
  {
   "cell_type": "code",
   "execution_count": 27,
   "metadata": {},
   "outputs": [],
   "source": [
    "from sklearn.feature_extraction.text import CountVectorizer\n",
    "\n",
    "vectorizer = CountVectorizer(stop_words='english', max_features=1000)\n",
    "\n",
    "vector = vectorizer.fit_transform(features['sentence'])"
   ]
  },
  {
   "cell_type": "code",
   "execution_count": 29,
   "metadata": {},
   "outputs": [],
   "source": [
    "#set up our X and y values\n",
    "columns = vectorizer.get_feature_names()\n",
    "length = features['message_length'].tolist()\n",
    "\n",
    "X = pd.DataFrame(vector.toarray(), columns=columns)\n",
    "X['message_length'] = length\n",
    "y = target"
   ]
  },
  {
   "cell_type": "code",
   "execution_count": 30,
   "metadata": {},
   "outputs": [
    {
     "data": {
      "text/plain": [
       "(102310, 1001)"
      ]
     },
     "execution_count": 30,
     "metadata": {},
     "output_type": "execute_result"
    }
   ],
   "source": [
    "X.shape"
   ]
  },
  {
   "cell_type": "markdown",
   "metadata": {},
   "source": [
    "__Ok, now that our data is vectorized. Let's create our holdout group and then begin our unsupervised learning!__"
   ]
  },
  {
   "cell_type": "code",
   "execution_count": 47,
   "metadata": {},
   "outputs": [],
   "source": [
    "#setup our holdout group\n",
    "from sklearn.model_selection import train_test_split\n",
    "\n",
    "X, X_holdout, y, y_holdout = train_test_split(X, y, test_size=0.25, random_state=42)"
   ]
  },
  {
   "cell_type": "markdown",
   "metadata": {},
   "source": [
    "__Let's do some clustering. First, we'll see what the most appropriate clustering is.__"
   ]
  },
  {
   "cell_type": "markdown",
   "metadata": {},
   "source": [
    "__Silhouette Coefficient__"
   ]
  },
  {
   "cell_type": "code",
   "execution_count": 48,
   "metadata": {},
   "outputs": [
    {
     "name": "stdout",
     "output_type": "stream",
     "text": [
      "Number of clusters: 1\n",
      "1 Clusters is no good\n",
      "\n",
      "Number of clusters: 2\n",
      "0.2043139127813466\n",
      "\n",
      "Number of clusters: 3\n",
      "0.20535603805413127\n",
      "\n",
      "Number of clusters: 4\n",
      "0.20750991382214778\n",
      "\n",
      "Number of clusters: 5\n",
      "0.11777055704959646\n",
      "\n",
      "Number of clusters: 6\n",
      "0.1300855698864332\n",
      "\n",
      "Number of clusters: 7\n",
      "0.12877797913171649\n",
      "\n",
      "Number of clusters: 8\n",
      "0.13789618947764898\n",
      "\n",
      "Number of clusters: 9\n",
      "0.038888922776279505\n",
      "\n",
      "Number of clusters: 10\n",
      "0.06293760046285297\n",
      "\n"
     ]
    }
   ],
   "source": [
    "from sklearn import metrics\n",
    "from sklearn.metrics import pairwise_distances\n",
    "from sklearn.cluster import KMeans\n",
    "from sklearn.preprocessing import normalize\n",
    "\n",
    "for i in range(1, 11):\n",
    "    try:\n",
    "        model = KMeans(n_clusters=i, random_state=42).fit(X.drop(columns='message_length'))\n",
    "        labels = model.labels_\n",
    "        print('Number of clusters: {}'.format(i))\n",
    "        print(metrics.silhouette_score(X.drop(columns='message_length'), labels, metric='euclidean'))\n",
    "        print('')\n",
    "    except:\n",
    "        print('{} Clusters is no good'.format(i))\n",
    "        print('')"
   ]
  },
  {
   "cell_type": "markdown",
   "metadata": {},
   "source": [
    "__Mean Shift__"
   ]
  },
  {
   "cell_type": "code",
   "execution_count": 49,
   "metadata": {},
   "outputs": [
    {
     "name": "stdout",
     "output_type": "stream",
     "text": [
      "Number of estimated clusters: 1\n"
     ]
    }
   ],
   "source": [
    "from sklearn.cluster import MeanShift, estimate_bandwidth\n",
    "\n",
    "# Here we set the bandwidth. This function automatically derives a bandwidth\n",
    "# number based on an inspection of the distances among points in the data.\n",
    "bandwidth = estimate_bandwidth(X, quantile=0.2, n_samples=500)\n",
    "\n",
    "# Declare and fit the model.\n",
    "ms = MeanShift(bandwidth=bandwidth, bin_seeding=True)\n",
    "ms.fit(X)\n",
    "\n",
    "# Extract cluster assignments for each data point.\n",
    "labels = ms.labels_\n",
    "\n",
    "# Coordinates of the cluster centers.\n",
    "cluster_centers = ms.cluster_centers_\n",
    "\n",
    "# Count our clusters.\n",
    "n_clusters_ = len(np.unique(labels))\n",
    "\n",
    "print(\"Number of estimated clusters: {}\".format(n_clusters_))"
   ]
  },
  {
   "cell_type": "markdown",
   "metadata": {},
   "source": [
    "__According to our Silhouette score, the best are 2, 3, and 4 clusters. Mean shift does one cluster, but that doesn't really help us.__\n",
    "\n",
    "__Let's do some exploration of each one!__"
   ]
  },
  {
   "cell_type": "markdown",
   "metadata": {},
   "source": [
    "2 groups"
   ]
  },
  {
   "cell_type": "code",
   "execution_count": 50,
   "metadata": {},
   "outputs": [
    {
     "data": {
      "text/plain": [
       "KMeans(algorithm='auto', copy_x=True, init='k-means++', max_iter=300,\n",
       "       n_clusters=2, n_init=10, n_jobs=None, precompute_distances='auto',\n",
       "       random_state=42, tol=0.0001, verbose=0)"
      ]
     },
     "execution_count": 50,
     "metadata": {},
     "output_type": "execute_result"
    }
   ],
   "source": [
    "from sklearn.cluster import KMeans\n",
    "kmeans = KMeans(n_clusters=2, random_state=42)\n",
    "\n",
    "kmeans.fit(X.drop(columns='message_length'))"
   ]
  },
  {
   "cell_type": "code",
   "execution_count": 51,
   "metadata": {
    "scrolled": true
   },
   "outputs": [
    {
     "data": {
      "text/plain": [
       "1    75683\n",
       "0     1049\n",
       "Name: labels, dtype: int64"
      ]
     },
     "execution_count": 51,
     "metadata": {},
     "output_type": "execute_result"
    }
   ],
   "source": [
    "X['labels'] = kmeans.labels_\n",
    "\n",
    "X.labels.value_counts()"
   ]
  },
  {
   "cell_type": "code",
   "execution_count": 52,
   "metadata": {},
   "outputs": [],
   "source": [
    "X['author'] = y.tolist()"
   ]
  },
  {
   "cell_type": "code",
   "execution_count": 53,
   "metadata": {
    "scrolled": false
   },
   "outputs": [
    {
     "data": {
      "text/plain": [
       "labels\n",
       "0     97.067684\n",
       "1    105.807526\n",
       "Name: message_length, dtype: float64"
      ]
     },
     "execution_count": 53,
     "metadata": {},
     "output_type": "execute_result"
    }
   ],
   "source": [
    "X.groupby('labels')['message_length'].mean()"
   ]
  },
  {
   "cell_type": "markdown",
   "metadata": {},
   "source": [
    "__Which authors are in which groups?__"
   ]
  },
  {
   "cell_type": "code",
   "execution_count": 54,
   "metadata": {},
   "outputs": [
    {
     "data": {
      "image/png": "[encoded data removed]",
      "text/plain": [
       "<Figure size 1296x432 with 2 Axes>"
      ]
     },
     "metadata": {
      "needs_background": "light"
     },
     "output_type": "display_data"
    }
   ],
   "source": [
    "plt.figure(figsize=(18, 6))\n",
    "\n",
    "plt.subplot(1, 2, 1)\n",
    "sns.barplot(X.groupby('labels')['author'].value_counts()[0].index, X.groupby('labels')['author'].value_counts()[0])\n",
    "plt.title('Group 0')\n",
    "plt.xticks(rotation='vertical')\n",
    "\n",
    "plt.subplot(1, 2, 2)\n",
    "sns.barplot(X.groupby('labels')['author'].value_counts()[1].index, X.groupby('labels')['author'].value_counts()[1])\n",
    "plt.title('Group 1')\n",
    "plt.xticks(rotation='vertical')\n",
    "\n",
    "plt.show()"
   ]
  },
  {
   "cell_type": "code",
   "execution_count": 55,
   "metadata": {
    "scrolled": true
   },
   "outputs": [
    {
     "data": {
      "text/plain": [
       "labels       0.786180\n",
       "final        0.465349\n",
       "error        0.440277\n",
       "schedules    0.392581\n",
       "database     0.296779\n",
       "hourahead    0.268854\n",
       "iso          0.258459\n",
       "schedule     0.235426\n",
       "start        0.219323\n",
       "Name: pete.davis@enron.com, dtype: float64"
      ]
     },
     "execution_count": 55,
     "metadata": {},
     "output_type": "execute_result"
    }
   ],
   "source": [
    "X.groupby('author').mean().loc['pete.davis@enron.com', :].sort_values(ascending=False)[1:10]"
   ]
  },
  {
   "cell_type": "code",
   "execution_count": 56,
   "metadata": {},
   "outputs": [],
   "source": [
    "most_important = pd.DataFrame()\n",
    "\n",
    "most_important['columns'] = X.groupby('labels').mean().columns.tolist()\n",
    "most_important['values'] = X.groupby('labels').mean().loc[0, :].tolist()"
   ]
  },
  {
   "cell_type": "code",
   "execution_count": 57,
   "metadata": {},
   "outputs": [
    {
     "data": {
      "text/html": [
       "<div>\n",
       "<style scoped>\n",
       "    .dataframe tbody tr th:only-of-type {\n",
       "        vertical-align: middle;\n",
       "    }\n",
       "\n",
       "    .dataframe tbody tr th {\n",
       "        vertical-align: top;\n",
       "    }\n",
       "\n",
       "    .dataframe thead th {\n",
       "        text-align: right;\n",
       "    }\n",
       "</style>\n",
       "<table border=\"1\" class=\"dataframe\">\n",
       "  <thead>\n",
       "    <tr style=\"text-align: right;\">\n",
       "      <th></th>\n",
       "      <th>columns</th>\n",
       "      <th>values</th>\n",
       "    </tr>\n",
       "  </thead>\n",
       "  <tbody>\n",
       "    <tr>\n",
       "      <td>358</td>\n",
       "      <td>file</td>\n",
       "      <td>1.000000</td>\n",
       "    </tr>\n",
       "    <tr>\n",
       "      <td>685</td>\n",
       "      <td>portland</td>\n",
       "      <td>1.000000</td>\n",
       "    </tr>\n",
       "    <tr>\n",
       "      <td>360</td>\n",
       "      <td>final</td>\n",
       "      <td>1.000000</td>\n",
       "    </tr>\n",
       "    <tr>\n",
       "      <td>153</td>\n",
       "      <td>california</td>\n",
       "      <td>1.000000</td>\n",
       "    </tr>\n",
       "    <tr>\n",
       "      <td>978</td>\n",
       "      <td>westdesk</td>\n",
       "      <td>1.000000</td>\n",
       "    </tr>\n",
       "    <tr>\n",
       "      <td>794</td>\n",
       "      <td>scheduling</td>\n",
       "      <td>1.000000</td>\n",
       "    </tr>\n",
       "    <tr>\n",
       "      <td>793</td>\n",
       "      <td>schedules</td>\n",
       "      <td>1.000000</td>\n",
       "    </tr>\n",
       "    <tr>\n",
       "      <td>461</td>\n",
       "      <td>iso</td>\n",
       "      <td>1.000000</td>\n",
       "    </tr>\n",
       "    <tr>\n",
       "      <td>520</td>\n",
       "      <td>log</td>\n",
       "      <td>0.904671</td>\n",
       "    </tr>\n",
       "    <tr>\n",
       "      <td>566</td>\n",
       "      <td>messages</td>\n",
       "      <td>0.904671</td>\n",
       "    </tr>\n",
       "    <tr>\n",
       "      <td>641</td>\n",
       "      <td>parsing</td>\n",
       "      <td>0.895138</td>\n",
       "    </tr>\n",
       "    <tr>\n",
       "      <td>326</td>\n",
       "      <td>error</td>\n",
       "      <td>0.104862</td>\n",
       "    </tr>\n",
       "    <tr>\n",
       "      <td>11</td>\n",
       "      <td>20</td>\n",
       "      <td>0.081983</td>\n",
       "    </tr>\n",
       "    <tr>\n",
       "      <td>9</td>\n",
       "      <td>19</td>\n",
       "      <td>0.037178</td>\n",
       "    </tr>\n",
       "    <tr>\n",
       "      <td>8</td>\n",
       "      <td>18</td>\n",
       "      <td>0.035272</td>\n",
       "    </tr>\n",
       "    <tr>\n",
       "      <td>5</td>\n",
       "      <td>15</td>\n",
       "      <td>0.023832</td>\n",
       "    </tr>\n",
       "    <tr>\n",
       "      <td>16</td>\n",
       "      <td>24</td>\n",
       "      <td>0.023832</td>\n",
       "    </tr>\n",
       "    <tr>\n",
       "      <td>21</td>\n",
       "      <td>29</td>\n",
       "      <td>0.021926</td>\n",
       "    </tr>\n",
       "    <tr>\n",
       "      <td>7</td>\n",
       "      <td>17</td>\n",
       "      <td>0.020019</td>\n",
       "    </tr>\n",
       "  </tbody>\n",
       "</table>\n",
       "</div>"
      ],
      "text/plain": [
       "        columns    values\n",
       "358        file  1.000000\n",
       "685    portland  1.000000\n",
       "360       final  1.000000\n",
       "153  california  1.000000\n",
       "978    westdesk  1.000000\n",
       "794  scheduling  1.000000\n",
       "793   schedules  1.000000\n",
       "461         iso  1.000000\n",
       "520         log  0.904671\n",
       "566    messages  0.904671\n",
       "641     parsing  0.895138\n",
       "326       error  0.104862\n",
       "11           20  0.081983\n",
       "9            19  0.037178\n",
       "8            18  0.035272\n",
       "5            15  0.023832\n",
       "16           24  0.023832\n",
       "21           29  0.021926\n",
       "7            17  0.020019"
      ]
     },
     "execution_count": 57,
     "metadata": {},
     "output_type": "execute_result"
    }
   ],
   "source": [
    "most_important.sort_values(by='values', ascending=False)[1 : 20]"
   ]
  },
  {
   "cell_type": "code",
   "execution_count": 58,
   "metadata": {},
   "outputs": [],
   "source": [
    "most_important = pd.DataFrame()\n",
    "\n",
    "most_important['columns'] = X.groupby('labels').mean().columns.tolist()\n",
    "most_important['values'] = X.groupby('labels').mean().loc[1, :].tolist()"
   ]
  },
  {
   "cell_type": "code",
   "execution_count": 59,
   "metadata": {},
   "outputs": [
    {
     "data": {
      "text/html": [
       "<div>\n",
       "<style scoped>\n",
       "    .dataframe tbody tr th:only-of-type {\n",
       "        vertical-align: middle;\n",
       "    }\n",
       "\n",
       "    .dataframe tbody tr th {\n",
       "        vertical-align: top;\n",
       "    }\n",
       "\n",
       "    .dataframe thead th {\n",
       "        text-align: right;\n",
       "    }\n",
       "</style>\n",
       "<table border=\"1\" class=\"dataframe\">\n",
       "  <thead>\n",
       "    <tr style=\"text-align: right;\">\n",
       "      <th></th>\n",
       "      <th>columns</th>\n",
       "      <th>values</th>\n",
       "    </tr>\n",
       "  </thead>\n",
       "  <tbody>\n",
       "    <tr>\n",
       "      <td>313</td>\n",
       "      <td>enron</td>\n",
       "      <td>0.080745</td>\n",
       "    </tr>\n",
       "    <tr>\n",
       "      <td>863</td>\n",
       "      <td>subject</td>\n",
       "      <td>0.063409</td>\n",
       "    </tr>\n",
       "    <tr>\n",
       "      <td>420</td>\n",
       "      <td>hou</td>\n",
       "      <td>0.043286</td>\n",
       "    </tr>\n",
       "    <tr>\n",
       "      <td>690</td>\n",
       "      <td>power</td>\n",
       "      <td>0.036521</td>\n",
       "    </tr>\n",
       "    <tr>\n",
       "      <td>309</td>\n",
       "      <td>energy</td>\n",
       "      <td>0.033825</td>\n",
       "    </tr>\n",
       "    <tr>\n",
       "      <td>372</td>\n",
       "      <td>forwarded</td>\n",
       "      <td>0.032636</td>\n",
       "    </tr>\n",
       "    <tr>\n",
       "      <td>326</td>\n",
       "      <td>error</td>\n",
       "      <td>0.031381</td>\n",
       "    </tr>\n",
       "    <tr>\n",
       "      <td>487</td>\n",
       "      <td>know</td>\n",
       "      <td>0.030179</td>\n",
       "    </tr>\n",
       "    <tr>\n",
       "      <td>304</td>\n",
       "      <td>email</td>\n",
       "      <td>0.029465</td>\n",
       "    </tr>\n",
       "    <tr>\n",
       "      <td>208</td>\n",
       "      <td>corp</td>\n",
       "      <td>0.028527</td>\n",
       "    </tr>\n",
       "    <tr>\n",
       "      <td>596</td>\n",
       "      <td>new</td>\n",
       "      <td>0.028223</td>\n",
       "    </tr>\n",
       "    <tr>\n",
       "      <td>677</td>\n",
       "      <td>pm</td>\n",
       "      <td>0.027060</td>\n",
       "    </tr>\n",
       "    <tr>\n",
       "      <td>444</td>\n",
       "      <td>information</td>\n",
       "      <td>0.026466</td>\n",
       "    </tr>\n",
       "    <tr>\n",
       "      <td>164</td>\n",
       "      <td>cc</td>\n",
       "      <td>0.026386</td>\n",
       "    </tr>\n",
       "    <tr>\n",
       "      <td>590</td>\n",
       "      <td>need</td>\n",
       "      <td>0.026056</td>\n",
       "    </tr>\n",
       "    <tr>\n",
       "      <td>781</td>\n",
       "      <td>said</td>\n",
       "      <td>0.025924</td>\n",
       "    </tr>\n",
       "    <tr>\n",
       "      <td>830</td>\n",
       "      <td>sld</td>\n",
       "      <td>0.025607</td>\n",
       "    </tr>\n",
       "    <tr>\n",
       "      <td>80</td>\n",
       "      <td>agreement</td>\n",
       "      <td>0.023836</td>\n",
       "    </tr>\n",
       "    <tr>\n",
       "      <td>506</td>\n",
       "      <td>like</td>\n",
       "      <td>0.023704</td>\n",
       "    </tr>\n",
       "  </tbody>\n",
       "</table>\n",
       "</div>"
      ],
      "text/plain": [
       "         columns    values\n",
       "313        enron  0.080745\n",
       "863      subject  0.063409\n",
       "420          hou  0.043286\n",
       "690        power  0.036521\n",
       "309       energy  0.033825\n",
       "372    forwarded  0.032636\n",
       "326        error  0.031381\n",
       "487         know  0.030179\n",
       "304        email  0.029465\n",
       "208         corp  0.028527\n",
       "596          new  0.028223\n",
       "677           pm  0.027060\n",
       "444  information  0.026466\n",
       "164           cc  0.026386\n",
       "590         need  0.026056\n",
       "781         said  0.025924\n",
       "830          sld  0.025607\n",
       "80     agreement  0.023836\n",
       "506         like  0.023704"
      ]
     },
     "execution_count": 59,
     "metadata": {},
     "output_type": "execute_result"
    }
   ],
   "source": [
    "most_important.sort_values(by='values', ascending=False)[1 : 20]"
   ]
  },
  {
   "cell_type": "markdown",
   "metadata": {},
   "source": [
    "So, it looks like it split one group entirely of one author, and all the rest in the other.\n",
    "\n",
    "It seems like he might be in some sort of IT position based on the words he was using."
   ]
  },
  {
   "cell_type": "markdown",
   "metadata": {},
   "source": [
    "3 groups"
   ]
  },
  {
   "cell_type": "code",
   "execution_count": 60,
   "metadata": {},
   "outputs": [
    {
     "data": {
      "text/plain": [
       "KMeans(algorithm='auto', copy_x=True, init='k-means++', max_iter=300,\n",
       "       n_clusters=3, n_init=10, n_jobs=None, precompute_distances='auto',\n",
       "       random_state=42, tol=0.0001, verbose=0)"
      ]
     },
     "execution_count": 60,
     "metadata": {},
     "output_type": "execute_result"
    }
   ],
   "source": [
    "from sklearn.cluster import KMeans\n",
    "kmeans = KMeans(n_clusters=3, random_state=42)\n",
    "\n",
    "kmeans.fit(X.drop(columns=['message_length', 'author', 'labels']))"
   ]
  },
  {
   "cell_type": "code",
   "execution_count": 61,
   "metadata": {
    "scrolled": true
   },
   "outputs": [
    {
     "data": {
      "text/plain": [
       "1    71429\n",
       "2     4254\n",
       "0     1049\n",
       "Name: labels_3, dtype: int64"
      ]
     },
     "execution_count": 61,
     "metadata": {},
     "output_type": "execute_result"
    }
   ],
   "source": [
    "X['labels_3'] = kmeans.labels_\n",
    "\n",
    "X.labels_3.value_counts()"
   ]
  },
  {
   "cell_type": "code",
   "execution_count": 62,
   "metadata": {
    "scrolled": false
   },
   "outputs": [
    {
     "data": {
      "text/plain": [
       "labels_3\n",
       "0     97.067684\n",
       "1    104.942040\n",
       "2    120.339915\n",
       "Name: message_length, dtype: float64"
      ]
     },
     "execution_count": 62,
     "metadata": {},
     "output_type": "execute_result"
    }
   ],
   "source": [
    "X.groupby('labels_3')['message_length'].mean()"
   ]
  },
  {
   "cell_type": "code",
   "execution_count": 63,
   "metadata": {},
   "outputs": [
    {
     "data": {
      "image/png": "[encoded data removed]",
      "text/plain": [
       "<Figure size 1296x432 with 3 Axes>"
      ]
     },
     "metadata": {
      "needs_background": "light"
     },
     "output_type": "display_data"
    }
   ],
   "source": [
    "plt.figure(figsize=(18, 6))\n",
    "\n",
    "plt.subplot(1, 3, 1)\n",
    "sns.barplot(X.groupby('labels_3')['author'].value_counts()[0].index, X.groupby('labels_3')['author'].value_counts()[0])\n",
    "plt.title('Group 0')\n",
    "plt.xticks(rotation='vertical')\n",
    "\n",
    "plt.subplot(1, 3, 2)\n",
    "sns.barplot(X.groupby('labels_3')['author'].value_counts()[1].index, X.groupby('labels_3')['author'].value_counts()[1])\n",
    "plt.title('Group 1')\n",
    "plt.xticks(rotation='vertical')\n",
    "\n",
    "plt.subplot(1, 3, 3)\n",
    "sns.barplot(X.groupby('labels_3')['author'].value_counts()[2].index, X.groupby('labels_3')['author'].value_counts()[2])\n",
    "plt.title('Group 2')\n",
    "plt.xticks(rotation='vertical')\n",
    "\n",
    "\n",
    "plt.show()"
   ]
  },
  {
   "cell_type": "code",
   "execution_count": 64,
   "metadata": {},
   "outputs": [],
   "source": [
    "most_important = pd.DataFrame()\n",
    "\n",
    "most_important['columns'] = X.groupby('labels_3').mean().columns.tolist()\n",
    "most_important['values'] = X.groupby('labels_3').mean().loc[0, :].tolist()"
   ]
  },
  {
   "cell_type": "code",
   "execution_count": 65,
   "metadata": {},
   "outputs": [
    {
     "data": {
      "text/html": [
       "<div>\n",
       "<style scoped>\n",
       "    .dataframe tbody tr th:only-of-type {\n",
       "        vertical-align: middle;\n",
       "    }\n",
       "\n",
       "    .dataframe tbody tr th {\n",
       "        vertical-align: top;\n",
       "    }\n",
       "\n",
       "    .dataframe thead th {\n",
       "        text-align: right;\n",
       "    }\n",
       "</style>\n",
       "<table border=\"1\" class=\"dataframe\">\n",
       "  <thead>\n",
       "    <tr style=\"text-align: right;\">\n",
       "      <th></th>\n",
       "      <th>columns</th>\n",
       "      <th>values</th>\n",
       "    </tr>\n",
       "  </thead>\n",
       "  <tbody>\n",
       "    <tr>\n",
       "      <td>153</td>\n",
       "      <td>california</td>\n",
       "      <td>1.000000</td>\n",
       "    </tr>\n",
       "    <tr>\n",
       "      <td>461</td>\n",
       "      <td>iso</td>\n",
       "      <td>1.000000</td>\n",
       "    </tr>\n",
       "    <tr>\n",
       "      <td>358</td>\n",
       "      <td>file</td>\n",
       "      <td>1.000000</td>\n",
       "    </tr>\n",
       "    <tr>\n",
       "      <td>793</td>\n",
       "      <td>schedules</td>\n",
       "      <td>1.000000</td>\n",
       "    </tr>\n",
       "    <tr>\n",
       "      <td>794</td>\n",
       "      <td>scheduling</td>\n",
       "      <td>1.000000</td>\n",
       "    </tr>\n",
       "    <tr>\n",
       "      <td>978</td>\n",
       "      <td>westdesk</td>\n",
       "      <td>1.000000</td>\n",
       "    </tr>\n",
       "    <tr>\n",
       "      <td>685</td>\n",
       "      <td>portland</td>\n",
       "      <td>1.000000</td>\n",
       "    </tr>\n",
       "    <tr>\n",
       "      <td>360</td>\n",
       "      <td>final</td>\n",
       "      <td>1.000000</td>\n",
       "    </tr>\n",
       "    <tr>\n",
       "      <td>520</td>\n",
       "      <td>log</td>\n",
       "      <td>0.904671</td>\n",
       "    </tr>\n",
       "    <tr>\n",
       "      <td>566</td>\n",
       "      <td>messages</td>\n",
       "      <td>0.904671</td>\n",
       "    </tr>\n",
       "    <tr>\n",
       "      <td>641</td>\n",
       "      <td>parsing</td>\n",
       "      <td>0.895138</td>\n",
       "    </tr>\n",
       "    <tr>\n",
       "      <td>326</td>\n",
       "      <td>error</td>\n",
       "      <td>0.104862</td>\n",
       "    </tr>\n",
       "    <tr>\n",
       "      <td>11</td>\n",
       "      <td>20</td>\n",
       "      <td>0.081983</td>\n",
       "    </tr>\n",
       "    <tr>\n",
       "      <td>9</td>\n",
       "      <td>19</td>\n",
       "      <td>0.037178</td>\n",
       "    </tr>\n",
       "    <tr>\n",
       "      <td>8</td>\n",
       "      <td>18</td>\n",
       "      <td>0.035272</td>\n",
       "    </tr>\n",
       "    <tr>\n",
       "      <td>5</td>\n",
       "      <td>15</td>\n",
       "      <td>0.023832</td>\n",
       "    </tr>\n",
       "    <tr>\n",
       "      <td>16</td>\n",
       "      <td>24</td>\n",
       "      <td>0.023832</td>\n",
       "    </tr>\n",
       "    <tr>\n",
       "      <td>21</td>\n",
       "      <td>29</td>\n",
       "      <td>0.021926</td>\n",
       "    </tr>\n",
       "    <tr>\n",
       "      <td>7</td>\n",
       "      <td>17</td>\n",
       "      <td>0.020019</td>\n",
       "    </tr>\n",
       "  </tbody>\n",
       "</table>\n",
       "</div>"
      ],
      "text/plain": [
       "        columns    values\n",
       "153  california  1.000000\n",
       "461         iso  1.000000\n",
       "358        file  1.000000\n",
       "793   schedules  1.000000\n",
       "794  scheduling  1.000000\n",
       "978    westdesk  1.000000\n",
       "685    portland  1.000000\n",
       "360       final  1.000000\n",
       "520         log  0.904671\n",
       "566    messages  0.904671\n",
       "641     parsing  0.895138\n",
       "326       error  0.104862\n",
       "11           20  0.081983\n",
       "9            19  0.037178\n",
       "8            18  0.035272\n",
       "5            15  0.023832\n",
       "16           24  0.023832\n",
       "21           29  0.021926\n",
       "7            17  0.020019"
      ]
     },
     "execution_count": 65,
     "metadata": {},
     "output_type": "execute_result"
    }
   ],
   "source": [
    "most_important.sort_values(by='values', ascending=False)[1 : 20]"
   ]
  },
  {
   "cell_type": "code",
   "execution_count": 66,
   "metadata": {},
   "outputs": [],
   "source": [
    "most_important = pd.DataFrame()\n",
    "\n",
    "most_important['columns'] = X.groupby('labels_3').mean().columns.tolist()\n",
    "most_important['values'] = X.groupby('labels_3').mean().loc[1, :].tolist()"
   ]
  },
  {
   "cell_type": "code",
   "execution_count": 67,
   "metadata": {
    "scrolled": false
   },
   "outputs": [
    {
     "data": {
      "text/html": [
       "<div>\n",
       "<style scoped>\n",
       "    .dataframe tbody tr th:only-of-type {\n",
       "        vertical-align: middle;\n",
       "    }\n",
       "\n",
       "    .dataframe tbody tr th {\n",
       "        vertical-align: top;\n",
       "    }\n",
       "\n",
       "    .dataframe thead th {\n",
       "        text-align: right;\n",
       "    }\n",
       "</style>\n",
       "<table border=\"1\" class=\"dataframe\">\n",
       "  <thead>\n",
       "    <tr style=\"text-align: right;\">\n",
       "      <th></th>\n",
       "      <th>columns</th>\n",
       "      <th>values</th>\n",
       "    </tr>\n",
       "  </thead>\n",
       "  <tbody>\n",
       "    <tr>\n",
       "      <td>313</td>\n",
       "      <td>enron</td>\n",
       "      <td>0.064442</td>\n",
       "    </tr>\n",
       "    <tr>\n",
       "      <td>690</td>\n",
       "      <td>power</td>\n",
       "      <td>0.037926</td>\n",
       "    </tr>\n",
       "    <tr>\n",
       "      <td>863</td>\n",
       "      <td>subject</td>\n",
       "      <td>0.037576</td>\n",
       "    </tr>\n",
       "    <tr>\n",
       "      <td>309</td>\n",
       "      <td>energy</td>\n",
       "      <td>0.034916</td>\n",
       "    </tr>\n",
       "    <tr>\n",
       "      <td>326</td>\n",
       "      <td>error</td>\n",
       "      <td>0.033222</td>\n",
       "    </tr>\n",
       "    <tr>\n",
       "      <td>487</td>\n",
       "      <td>know</td>\n",
       "      <td>0.031248</td>\n",
       "    </tr>\n",
       "    <tr>\n",
       "      <td>304</td>\n",
       "      <td>email</td>\n",
       "      <td>0.030744</td>\n",
       "    </tr>\n",
       "    <tr>\n",
       "      <td>596</td>\n",
       "      <td>new</td>\n",
       "      <td>0.029078</td>\n",
       "    </tr>\n",
       "    <tr>\n",
       "      <td>444</td>\n",
       "      <td>information</td>\n",
       "      <td>0.027804</td>\n",
       "    </tr>\n",
       "    <tr>\n",
       "      <td>781</td>\n",
       "      <td>said</td>\n",
       "      <td>0.027412</td>\n",
       "    </tr>\n",
       "    <tr>\n",
       "      <td>590</td>\n",
       "      <td>need</td>\n",
       "      <td>0.027048</td>\n",
       "    </tr>\n",
       "    <tr>\n",
       "      <td>830</td>\n",
       "      <td>sld</td>\n",
       "      <td>0.026768</td>\n",
       "    </tr>\n",
       "    <tr>\n",
       "      <td>506</td>\n",
       "      <td>like</td>\n",
       "      <td>0.024696</td>\n",
       "    </tr>\n",
       "    <tr>\n",
       "      <td>234</td>\n",
       "      <td>date</td>\n",
       "      <td>0.024696</td>\n",
       "    </tr>\n",
       "    <tr>\n",
       "      <td>80</td>\n",
       "      <td>agreement</td>\n",
       "      <td>0.024346</td>\n",
       "    </tr>\n",
       "    <tr>\n",
       "      <td>907</td>\n",
       "      <td>time</td>\n",
       "      <td>0.024262</td>\n",
       "    </tr>\n",
       "    <tr>\n",
       "      <td>791</td>\n",
       "      <td>schedule</td>\n",
       "      <td>0.023282</td>\n",
       "    </tr>\n",
       "    <tr>\n",
       "      <td>233</td>\n",
       "      <td>database</td>\n",
       "      <td>0.023030</td>\n",
       "    </tr>\n",
       "  </tbody>\n",
       "</table>\n",
       "</div>"
      ],
      "text/plain": [
       "         columns    values\n",
       "313        enron  0.064442\n",
       "690        power  0.037926\n",
       "863      subject  0.037576\n",
       "309       energy  0.034916\n",
       "326        error  0.033222\n",
       "487         know  0.031248\n",
       "304        email  0.030744\n",
       "596          new  0.029078\n",
       "444  information  0.027804\n",
       "781         said  0.027412\n",
       "590         need  0.027048\n",
       "830          sld  0.026768\n",
       "506         like  0.024696\n",
       "234         date  0.024696\n",
       "80     agreement  0.024346\n",
       "907         time  0.024262\n",
       "791     schedule  0.023282\n",
       "233     database  0.023030"
      ]
     },
     "execution_count": 67,
     "metadata": {},
     "output_type": "execute_result"
    }
   ],
   "source": [
    "most_important.sort_values(by='values', ascending=False)[2 : 20]"
   ]
  },
  {
   "cell_type": "code",
   "execution_count": 68,
   "metadata": {},
   "outputs": [],
   "source": [
    "most_important = pd.DataFrame()\n",
    "\n",
    "most_important['columns'] = X.groupby('labels_3').mean().columns.tolist()\n",
    "most_important['values'] = X.groupby('labels_3').mean().loc[2, :].tolist()"
   ]
  },
  {
   "cell_type": "code",
   "execution_count": 69,
   "metadata": {},
   "outputs": [
    {
     "data": {
      "text/html": [
       "<div>\n",
       "<style scoped>\n",
       "    .dataframe tbody tr th:only-of-type {\n",
       "        vertical-align: middle;\n",
       "    }\n",
       "\n",
       "    .dataframe tbody tr th {\n",
       "        vertical-align: top;\n",
       "    }\n",
       "\n",
       "    .dataframe thead th {\n",
       "        text-align: right;\n",
       "    }\n",
       "</style>\n",
       "<table border=\"1\" class=\"dataframe\">\n",
       "  <thead>\n",
       "    <tr style=\"text-align: right;\">\n",
       "      <th></th>\n",
       "      <th>columns</th>\n",
       "      <th>values</th>\n",
       "    </tr>\n",
       "  </thead>\n",
       "  <tbody>\n",
       "    <tr>\n",
       "      <td>420</td>\n",
       "      <td>hou</td>\n",
       "      <td>0.763282</td>\n",
       "    </tr>\n",
       "    <tr>\n",
       "      <td>372</td>\n",
       "      <td>forwarded</td>\n",
       "      <td>0.563940</td>\n",
       "    </tr>\n",
       "    <tr>\n",
       "      <td>863</td>\n",
       "      <td>subject</td>\n",
       "      <td>0.497179</td>\n",
       "    </tr>\n",
       "    <tr>\n",
       "      <td>677</td>\n",
       "      <td>pm</td>\n",
       "      <td>0.415609</td>\n",
       "    </tr>\n",
       "    <tr>\n",
       "      <td>208</td>\n",
       "      <td>corp</td>\n",
       "      <td>0.362012</td>\n",
       "    </tr>\n",
       "    <tr>\n",
       "      <td>313</td>\n",
       "      <td>enron</td>\n",
       "      <td>0.354490</td>\n",
       "    </tr>\n",
       "    <tr>\n",
       "      <td>290</td>\n",
       "      <td>ect</td>\n",
       "      <td>0.338035</td>\n",
       "    </tr>\n",
       "    <tr>\n",
       "      <td>958</td>\n",
       "      <td>vince</td>\n",
       "      <td>0.311942</td>\n",
       "    </tr>\n",
       "    <tr>\n",
       "      <td>482</td>\n",
       "      <td>kay</td>\n",
       "      <td>0.304184</td>\n",
       "    </tr>\n",
       "    <tr>\n",
       "      <td>291</td>\n",
       "      <td>ectect</td>\n",
       "      <td>0.272685</td>\n",
       "    </tr>\n",
       "    <tr>\n",
       "      <td>479</td>\n",
       "      <td>kaminski</td>\n",
       "      <td>0.256700</td>\n",
       "    </tr>\n",
       "    <tr>\n",
       "      <td>542</td>\n",
       "      <td>mann</td>\n",
       "      <td>0.238364</td>\n",
       "    </tr>\n",
       "    <tr>\n",
       "      <td>678</td>\n",
       "      <td>pmto</td>\n",
       "      <td>0.213681</td>\n",
       "    </tr>\n",
       "    <tr>\n",
       "      <td>583</td>\n",
       "      <td>na</td>\n",
       "      <td>0.205219</td>\n",
       "    </tr>\n",
       "    <tr>\n",
       "      <td>292</td>\n",
       "      <td>ectectcc</td>\n",
       "      <td>0.196756</td>\n",
       "    </tr>\n",
       "    <tr>\n",
       "      <td>164</td>\n",
       "      <td>cc</td>\n",
       "      <td>0.161025</td>\n",
       "    </tr>\n",
       "    <tr>\n",
       "      <td>1</td>\n",
       "      <td>06</td>\n",
       "      <td>0.155383</td>\n",
       "    </tr>\n",
       "    <tr>\n",
       "      <td>88</td>\n",
       "      <td>amto</td>\n",
       "      <td>0.142689</td>\n",
       "    </tr>\n",
       "  </tbody>\n",
       "</table>\n",
       "</div>"
      ],
      "text/plain": [
       "       columns    values\n",
       "420        hou  0.763282\n",
       "372  forwarded  0.563940\n",
       "863    subject  0.497179\n",
       "677         pm  0.415609\n",
       "208       corp  0.362012\n",
       "313      enron  0.354490\n",
       "290        ect  0.338035\n",
       "958      vince  0.311942\n",
       "482        kay  0.304184\n",
       "291     ectect  0.272685\n",
       "479   kaminski  0.256700\n",
       "542       mann  0.238364\n",
       "678       pmto  0.213681\n",
       "583         na  0.205219\n",
       "292   ectectcc  0.196756\n",
       "164         cc  0.161025\n",
       "1           06  0.155383\n",
       "88        amto  0.142689"
      ]
     },
     "execution_count": 69,
     "metadata": {},
     "output_type": "execute_result"
    }
   ],
   "source": [
    "most_important.sort_values(by='values', ascending=False)[2 : 20]"
   ]
  },
  {
   "cell_type": "markdown",
   "metadata": {},
   "source": [
    "__4 groups__"
   ]
  },
  {
   "cell_type": "code",
   "execution_count": 70,
   "metadata": {},
   "outputs": [
    {
     "data": {
      "text/plain": [
       "KMeans(algorithm='auto', copy_x=True, init='k-means++', max_iter=300,\n",
       "       n_clusters=4, n_init=10, n_jobs=None, precompute_distances='auto',\n",
       "       random_state=42, tol=0.0001, verbose=0)"
      ]
     },
     "execution_count": 70,
     "metadata": {},
     "output_type": "execute_result"
    }
   ],
   "source": [
    "from sklearn.cluster import KMeans\n",
    "kmeans = KMeans(n_clusters=4, random_state=42)\n",
    "\n",
    "kmeans.fit(X.drop(columns=['message_length', 'author', 'labels', 'labels_3']))"
   ]
  },
  {
   "cell_type": "code",
   "execution_count": 71,
   "metadata": {
    "scrolled": true
   },
   "outputs": [
    {
     "data": {
      "text/plain": [
       "0    71434\n",
       "2     2474\n",
       "1     1775\n",
       "3     1049\n",
       "Name: labels_4, dtype: int64"
      ]
     },
     "execution_count": 71,
     "metadata": {},
     "output_type": "execute_result"
    }
   ],
   "source": [
    "X['labels_4'] = kmeans.labels_\n",
    "\n",
    "X.labels_4.value_counts()"
   ]
  },
  {
   "cell_type": "code",
   "execution_count": 72,
   "metadata": {
    "scrolled": false
   },
   "outputs": [
    {
     "data": {
      "text/plain": [
       "labels_4\n",
       "0    104.953790\n",
       "1    118.636056\n",
       "2    121.254244\n",
       "3     97.067684\n",
       "Name: message_length, dtype: float64"
      ]
     },
     "execution_count": 72,
     "metadata": {},
     "output_type": "execute_result"
    }
   ],
   "source": [
    "X.groupby('labels_4')['message_length'].mean()"
   ]
  },
  {
   "cell_type": "code",
   "execution_count": 73,
   "metadata": {},
   "outputs": [
    {
     "data": {
      "image/png": "[encoded data removed]",
      "text/plain": [
       "<Figure size 1296x432 with 4 Axes>"
      ]
     },
     "metadata": {
      "needs_background": "light"
     },
     "output_type": "display_data"
    }
   ],
   "source": [
    "plt.figure(figsize=(18, 6))\n",
    "plt.subplots_adjust(left=None, right=None, bottom=0.1, top=0.9, hspace=2.5)\n",
    "\n",
    "plt.subplot(2, 2, 1)\n",
    "sns.barplot(X.groupby('labels_4')['author'].value_counts()[0].index, X.groupby('labels_4')['author'].value_counts()[0])\n",
    "plt.title('Group 0')\n",
    "plt.xticks(rotation='vertical')\n",
    "\n",
    "plt.subplot(2, 2, 2)\n",
    "sns.barplot(X.groupby('labels_4')['author'].value_counts()[1].index, X.groupby('labels_4')['author'].value_counts()[1])\n",
    "plt.title('Group 1')\n",
    "plt.xticks(rotation='vertical')\n",
    "\n",
    "plt.subplot(2, 2, 3)\n",
    "sns.barplot(X.groupby('labels_4')['author'].value_counts()[2].index, X.groupby('labels_4')['author'].value_counts()[2])\n",
    "plt.title('Group 2')\n",
    "plt.xticks(rotation='vertical')\n",
    "\n",
    "plt.subplot(2, 2, 4)\n",
    "sns.barplot(X.groupby('labels_4')['author'].value_counts()[3].index, X.groupby('labels_4')['author'].value_counts()[3])\n",
    "plt.title('Group 3')\n",
    "plt.xticks(rotation='vertical')\n",
    "\n",
    "plt.show()"
   ]
  },
  {
   "cell_type": "code",
   "execution_count": 74,
   "metadata": {},
   "outputs": [],
   "source": [
    "most_important = pd.DataFrame()\n",
    "\n",
    "most_important['columns'] = X.groupby('labels_4').mean().columns.tolist()\n",
    "most_important['values'] = X.groupby('labels_4').mean().loc[0, :].tolist()"
   ]
  },
  {
   "cell_type": "code",
   "execution_count": 75,
   "metadata": {},
   "outputs": [
    {
     "data": {
      "text/html": [
       "<div>\n",
       "<style scoped>\n",
       "    .dataframe tbody tr th:only-of-type {\n",
       "        vertical-align: middle;\n",
       "    }\n",
       "\n",
       "    .dataframe tbody tr th {\n",
       "        vertical-align: top;\n",
       "    }\n",
       "\n",
       "    .dataframe thead th {\n",
       "        text-align: right;\n",
       "    }\n",
       "</style>\n",
       "<table border=\"1\" class=\"dataframe\">\n",
       "  <thead>\n",
       "    <tr style=\"text-align: right;\">\n",
       "      <th></th>\n",
       "      <th>columns</th>\n",
       "      <th>values</th>\n",
       "    </tr>\n",
       "  </thead>\n",
       "  <tbody>\n",
       "    <tr>\n",
       "      <td>313</td>\n",
       "      <td>enron</td>\n",
       "      <td>0.062183</td>\n",
       "    </tr>\n",
       "    <tr>\n",
       "      <td>863</td>\n",
       "      <td>subject</td>\n",
       "      <td>0.038357</td>\n",
       "    </tr>\n",
       "    <tr>\n",
       "      <td>690</td>\n",
       "      <td>power</td>\n",
       "      <td>0.037937</td>\n",
       "    </tr>\n",
       "    <tr>\n",
       "      <td>309</td>\n",
       "      <td>energy</td>\n",
       "      <td>0.034913</td>\n",
       "    </tr>\n",
       "    <tr>\n",
       "      <td>326</td>\n",
       "      <td>error</td>\n",
       "      <td>0.033219</td>\n",
       "    </tr>\n",
       "    <tr>\n",
       "      <td>487</td>\n",
       "      <td>know</td>\n",
       "      <td>0.031176</td>\n",
       "    </tr>\n",
       "    <tr>\n",
       "      <td>304</td>\n",
       "      <td>email</td>\n",
       "      <td>0.030728</td>\n",
       "    </tr>\n",
       "    <tr>\n",
       "      <td>596</td>\n",
       "      <td>new</td>\n",
       "      <td>0.028950</td>\n",
       "    </tr>\n",
       "    <tr>\n",
       "      <td>444</td>\n",
       "      <td>information</td>\n",
       "      <td>0.027802</td>\n",
       "    </tr>\n",
       "    <tr>\n",
       "      <td>781</td>\n",
       "      <td>said</td>\n",
       "      <td>0.027382</td>\n",
       "    </tr>\n",
       "    <tr>\n",
       "      <td>590</td>\n",
       "      <td>need</td>\n",
       "      <td>0.027088</td>\n",
       "    </tr>\n",
       "    <tr>\n",
       "      <td>830</td>\n",
       "      <td>sld</td>\n",
       "      <td>0.026850</td>\n",
       "    </tr>\n",
       "    <tr>\n",
       "      <td>506</td>\n",
       "      <td>like</td>\n",
       "      <td>0.024680</td>\n",
       "    </tr>\n",
       "    <tr>\n",
       "      <td>234</td>\n",
       "      <td>date</td>\n",
       "      <td>0.024638</td>\n",
       "    </tr>\n",
       "    <tr>\n",
       "      <td>907</td>\n",
       "      <td>time</td>\n",
       "      <td>0.024218</td>\n",
       "    </tr>\n",
       "    <tr>\n",
       "      <td>80</td>\n",
       "      <td>agreement</td>\n",
       "      <td>0.024134</td>\n",
       "    </tr>\n",
       "    <tr>\n",
       "      <td>791</td>\n",
       "      <td>schedule</td>\n",
       "      <td>0.023294</td>\n",
       "    </tr>\n",
       "  </tbody>\n",
       "</table>\n",
       "</div>"
      ],
      "text/plain": [
       "         columns    values\n",
       "313        enron  0.062183\n",
       "863      subject  0.038357\n",
       "690        power  0.037937\n",
       "309       energy  0.034913\n",
       "326        error  0.033219\n",
       "487         know  0.031176\n",
       "304        email  0.030728\n",
       "596          new  0.028950\n",
       "444  information  0.027802\n",
       "781         said  0.027382\n",
       "590         need  0.027088\n",
       "830          sld  0.026850\n",
       "506         like  0.024680\n",
       "234         date  0.024638\n",
       "907         time  0.024218\n",
       "80     agreement  0.024134\n",
       "791     schedule  0.023294"
      ]
     },
     "execution_count": 75,
     "metadata": {},
     "output_type": "execute_result"
    }
   ],
   "source": [
    "most_important.sort_values(by='values', ascending=False)[3 : 20]"
   ]
  },
  {
   "cell_type": "code",
   "execution_count": 76,
   "metadata": {},
   "outputs": [],
   "source": [
    "most_important = pd.DataFrame()\n",
    "\n",
    "most_important['columns'] = X.groupby('labels_4').mean().columns.tolist()\n",
    "most_important['values'] = X.groupby('labels_4').mean().loc[1, :].tolist()"
   ]
  },
  {
   "cell_type": "code",
   "execution_count": 77,
   "metadata": {
    "scrolled": false
   },
   "outputs": [
    {
     "data": {
      "text/html": [
       "<div>\n",
       "<style scoped>\n",
       "    .dataframe tbody tr th:only-of-type {\n",
       "        vertical-align: middle;\n",
       "    }\n",
       "\n",
       "    .dataframe tbody tr th {\n",
       "        vertical-align: top;\n",
       "    }\n",
       "\n",
       "    .dataframe thead th {\n",
       "        text-align: right;\n",
       "    }\n",
       "</style>\n",
       "<table border=\"1\" class=\"dataframe\">\n",
       "  <thead>\n",
       "    <tr style=\"text-align: right;\">\n",
       "      <th></th>\n",
       "      <th>columns</th>\n",
       "      <th>values</th>\n",
       "    </tr>\n",
       "  </thead>\n",
       "  <tbody>\n",
       "    <tr>\n",
       "      <td>313</td>\n",
       "      <td>enron</td>\n",
       "      <td>0.798873</td>\n",
       "    </tr>\n",
       "    <tr>\n",
       "      <td>208</td>\n",
       "      <td>corp</td>\n",
       "      <td>0.721690</td>\n",
       "    </tr>\n",
       "    <tr>\n",
       "      <td>482</td>\n",
       "      <td>kay</td>\n",
       "      <td>0.683380</td>\n",
       "    </tr>\n",
       "    <tr>\n",
       "      <td>372</td>\n",
       "      <td>forwarded</td>\n",
       "      <td>0.602817</td>\n",
       "    </tr>\n",
       "    <tr>\n",
       "      <td>542</td>\n",
       "      <td>mann</td>\n",
       "      <td>0.574648</td>\n",
       "    </tr>\n",
       "    <tr>\n",
       "      <td>583</td>\n",
       "      <td>na</td>\n",
       "      <td>0.487324</td>\n",
       "    </tr>\n",
       "    <tr>\n",
       "      <td>677</td>\n",
       "      <td>pm</td>\n",
       "      <td>0.439437</td>\n",
       "    </tr>\n",
       "    <tr>\n",
       "      <td>863</td>\n",
       "      <td>subject</td>\n",
       "      <td>0.411268</td>\n",
       "    </tr>\n",
       "    <tr>\n",
       "      <td>314</td>\n",
       "      <td>enronenron</td>\n",
       "      <td>0.267042</td>\n",
       "    </tr>\n",
       "    <tr>\n",
       "      <td>469</td>\n",
       "      <td>jeff</td>\n",
       "      <td>0.266479</td>\n",
       "    </tr>\n",
       "    <tr>\n",
       "      <td>315</td>\n",
       "      <td>enronenroncc</td>\n",
       "      <td>0.260845</td>\n",
       "    </tr>\n",
       "    <tr>\n",
       "      <td>231</td>\n",
       "      <td>dasovich</td>\n",
       "      <td>0.225915</td>\n",
       "    </tr>\n",
       "    <tr>\n",
       "      <td>678</td>\n",
       "      <td>pmto</td>\n",
       "      <td>0.211831</td>\n",
       "    </tr>\n",
       "    <tr>\n",
       "      <td>1</td>\n",
       "      <td>06</td>\n",
       "      <td>0.185352</td>\n",
       "    </tr>\n",
       "    <tr>\n",
       "      <td>853</td>\n",
       "      <td>steven</td>\n",
       "      <td>0.149859</td>\n",
       "    </tr>\n",
       "    <tr>\n",
       "      <td>483</td>\n",
       "      <td>kean</td>\n",
       "      <td>0.141972</td>\n",
       "    </tr>\n",
       "    <tr>\n",
       "      <td>164</td>\n",
       "      <td>cc</td>\n",
       "      <td>0.133521</td>\n",
       "    </tr>\n",
       "  </tbody>\n",
       "</table>\n",
       "</div>"
      ],
      "text/plain": [
       "          columns    values\n",
       "313         enron  0.798873\n",
       "208          corp  0.721690\n",
       "482           kay  0.683380\n",
       "372     forwarded  0.602817\n",
       "542          mann  0.574648\n",
       "583            na  0.487324\n",
       "677            pm  0.439437\n",
       "863       subject  0.411268\n",
       "314    enronenron  0.267042\n",
       "469          jeff  0.266479\n",
       "315  enronenroncc  0.260845\n",
       "231      dasovich  0.225915\n",
       "678          pmto  0.211831\n",
       "1              06  0.185352\n",
       "853        steven  0.149859\n",
       "483          kean  0.141972\n",
       "164            cc  0.133521"
      ]
     },
     "execution_count": 77,
     "metadata": {},
     "output_type": "execute_result"
    }
   ],
   "source": [
    "most_important.sort_values(by='values', ascending=False)[3 : 20]"
   ]
  },
  {
   "cell_type": "code",
   "execution_count": 78,
   "metadata": {},
   "outputs": [],
   "source": [
    "most_important = pd.DataFrame()\n",
    "\n",
    "most_important['columns'] = X.groupby('labels_4').mean().columns.tolist()\n",
    "most_important['values'] = X.groupby('labels_4').mean().loc[2, :].tolist()"
   ]
  },
  {
   "cell_type": "code",
   "execution_count": 79,
   "metadata": {},
   "outputs": [
    {
     "data": {
      "text/html": [
       "<div>\n",
       "<style scoped>\n",
       "    .dataframe tbody tr th:only-of-type {\n",
       "        vertical-align: middle;\n",
       "    }\n",
       "\n",
       "    .dataframe tbody tr th {\n",
       "        vertical-align: top;\n",
       "    }\n",
       "\n",
       "    .dataframe thead th {\n",
       "        text-align: right;\n",
       "    }\n",
       "</style>\n",
       "<table border=\"1\" class=\"dataframe\">\n",
       "  <thead>\n",
       "    <tr style=\"text-align: right;\">\n",
       "      <th></th>\n",
       "      <th>columns</th>\n",
       "      <th>values</th>\n",
       "    </tr>\n",
       "  </thead>\n",
       "  <tbody>\n",
       "    <tr>\n",
       "      <td>1001</td>\n",
       "      <td>labels</td>\n",
       "      <td>1.000000</td>\n",
       "    </tr>\n",
       "    <tr>\n",
       "      <td>863</td>\n",
       "      <td>subject</td>\n",
       "      <td>0.537187</td>\n",
       "    </tr>\n",
       "    <tr>\n",
       "      <td>290</td>\n",
       "      <td>ect</td>\n",
       "      <td>0.531932</td>\n",
       "    </tr>\n",
       "    <tr>\n",
       "      <td>372</td>\n",
       "      <td>forwarded</td>\n",
       "      <td>0.530315</td>\n",
       "    </tr>\n",
       "    <tr>\n",
       "      <td>958</td>\n",
       "      <td>vince</td>\n",
       "      <td>0.525869</td>\n",
       "    </tr>\n",
       "    <tr>\n",
       "      <td>479</td>\n",
       "      <td>kaminski</td>\n",
       "      <td>0.431690</td>\n",
       "    </tr>\n",
       "    <tr>\n",
       "      <td>291</td>\n",
       "      <td>ectect</td>\n",
       "      <td>0.417138</td>\n",
       "    </tr>\n",
       "    <tr>\n",
       "      <td>677</td>\n",
       "      <td>pm</td>\n",
       "      <td>0.382781</td>\n",
       "    </tr>\n",
       "    <tr>\n",
       "      <td>292</td>\n",
       "      <td>ectectcc</td>\n",
       "      <td>0.315683</td>\n",
       "    </tr>\n",
       "    <tr>\n",
       "      <td>785</td>\n",
       "      <td>sara</td>\n",
       "      <td>0.219483</td>\n",
       "    </tr>\n",
       "    <tr>\n",
       "      <td>678</td>\n",
       "      <td>pmto</td>\n",
       "      <td>0.195230</td>\n",
       "    </tr>\n",
       "    <tr>\n",
       "      <td>815</td>\n",
       "      <td>shackleton</td>\n",
       "      <td>0.187955</td>\n",
       "    </tr>\n",
       "    <tr>\n",
       "      <td>164</td>\n",
       "      <td>cc</td>\n",
       "      <td>0.183913</td>\n",
       "    </tr>\n",
       "    <tr>\n",
       "      <td>182</td>\n",
       "      <td>chris</td>\n",
       "      <td>0.156427</td>\n",
       "    </tr>\n",
       "    <tr>\n",
       "      <td>88</td>\n",
       "      <td>amto</td>\n",
       "      <td>0.152385</td>\n",
       "    </tr>\n",
       "    <tr>\n",
       "      <td>387</td>\n",
       "      <td>germany</td>\n",
       "      <td>0.142684</td>\n",
       "    </tr>\n",
       "    <tr>\n",
       "      <td>882</td>\n",
       "      <td>tana</td>\n",
       "      <td>0.136621</td>\n",
       "    </tr>\n",
       "  </tbody>\n",
       "</table>\n",
       "</div>"
      ],
      "text/plain": [
       "         columns    values\n",
       "1001      labels  1.000000\n",
       "863      subject  0.537187\n",
       "290          ect  0.531932\n",
       "372    forwarded  0.530315\n",
       "958        vince  0.525869\n",
       "479     kaminski  0.431690\n",
       "291       ectect  0.417138\n",
       "677           pm  0.382781\n",
       "292     ectectcc  0.315683\n",
       "785         sara  0.219483\n",
       "678         pmto  0.195230\n",
       "815   shackleton  0.187955\n",
       "164           cc  0.183913\n",
       "182        chris  0.156427\n",
       "88          amto  0.152385\n",
       "387      germany  0.142684\n",
       "882         tana  0.136621"
      ]
     },
     "execution_count": 79,
     "metadata": {},
     "output_type": "execute_result"
    }
   ],
   "source": [
    "most_important.sort_values(by='values', ascending=False)[3 : 20]"
   ]
  },
  {
   "cell_type": "code",
   "execution_count": 80,
   "metadata": {},
   "outputs": [],
   "source": [
    "most_important = pd.DataFrame()\n",
    "\n",
    "most_important['columns'] = X.groupby('labels_4').mean().columns.tolist()\n",
    "most_important['values'] = X.groupby('labels_4').mean().loc[3, :].tolist()"
   ]
  },
  {
   "cell_type": "code",
   "execution_count": 81,
   "metadata": {},
   "outputs": [
    {
     "data": {
      "text/html": [
       "<div>\n",
       "<style scoped>\n",
       "    .dataframe tbody tr th:only-of-type {\n",
       "        vertical-align: middle;\n",
       "    }\n",
       "\n",
       "    .dataframe tbody tr th {\n",
       "        vertical-align: top;\n",
       "    }\n",
       "\n",
       "    .dataframe thead th {\n",
       "        text-align: right;\n",
       "    }\n",
       "</style>\n",
       "<table border=\"1\" class=\"dataframe\">\n",
       "  <thead>\n",
       "    <tr style=\"text-align: right;\">\n",
       "      <th></th>\n",
       "      <th>columns</th>\n",
       "      <th>values</th>\n",
       "    </tr>\n",
       "  </thead>\n",
       "  <tbody>\n",
       "    <tr>\n",
       "      <td>685</td>\n",
       "      <td>portland</td>\n",
       "      <td>1.000000</td>\n",
       "    </tr>\n",
       "    <tr>\n",
       "      <td>978</td>\n",
       "      <td>westdesk</td>\n",
       "      <td>1.000000</td>\n",
       "    </tr>\n",
       "    <tr>\n",
       "      <td>794</td>\n",
       "      <td>scheduling</td>\n",
       "      <td>1.000000</td>\n",
       "    </tr>\n",
       "    <tr>\n",
       "      <td>793</td>\n",
       "      <td>schedules</td>\n",
       "      <td>1.000000</td>\n",
       "    </tr>\n",
       "    <tr>\n",
       "      <td>358</td>\n",
       "      <td>file</td>\n",
       "      <td>1.000000</td>\n",
       "    </tr>\n",
       "    <tr>\n",
       "      <td>461</td>\n",
       "      <td>iso</td>\n",
       "      <td>1.000000</td>\n",
       "    </tr>\n",
       "    <tr>\n",
       "      <td>566</td>\n",
       "      <td>messages</td>\n",
       "      <td>0.904671</td>\n",
       "    </tr>\n",
       "    <tr>\n",
       "      <td>520</td>\n",
       "      <td>log</td>\n",
       "      <td>0.904671</td>\n",
       "    </tr>\n",
       "    <tr>\n",
       "      <td>641</td>\n",
       "      <td>parsing</td>\n",
       "      <td>0.895138</td>\n",
       "    </tr>\n",
       "    <tr>\n",
       "      <td>326</td>\n",
       "      <td>error</td>\n",
       "      <td>0.104862</td>\n",
       "    </tr>\n",
       "    <tr>\n",
       "      <td>11</td>\n",
       "      <td>20</td>\n",
       "      <td>0.081983</td>\n",
       "    </tr>\n",
       "    <tr>\n",
       "      <td>9</td>\n",
       "      <td>19</td>\n",
       "      <td>0.037178</td>\n",
       "    </tr>\n",
       "    <tr>\n",
       "      <td>8</td>\n",
       "      <td>18</td>\n",
       "      <td>0.035272</td>\n",
       "    </tr>\n",
       "    <tr>\n",
       "      <td>16</td>\n",
       "      <td>24</td>\n",
       "      <td>0.023832</td>\n",
       "    </tr>\n",
       "    <tr>\n",
       "      <td>5</td>\n",
       "      <td>15</td>\n",
       "      <td>0.023832</td>\n",
       "    </tr>\n",
       "    <tr>\n",
       "      <td>21</td>\n",
       "      <td>29</td>\n",
       "      <td>0.021926</td>\n",
       "    </tr>\n",
       "    <tr>\n",
       "      <td>7</td>\n",
       "      <td>17</td>\n",
       "      <td>0.020019</td>\n",
       "    </tr>\n",
       "  </tbody>\n",
       "</table>\n",
       "</div>"
      ],
      "text/plain": [
       "        columns    values\n",
       "685    portland  1.000000\n",
       "978    westdesk  1.000000\n",
       "794  scheduling  1.000000\n",
       "793   schedules  1.000000\n",
       "358        file  1.000000\n",
       "461         iso  1.000000\n",
       "566    messages  0.904671\n",
       "520         log  0.904671\n",
       "641     parsing  0.895138\n",
       "326       error  0.104862\n",
       "11           20  0.081983\n",
       "9            19  0.037178\n",
       "8            18  0.035272\n",
       "16           24  0.023832\n",
       "5            15  0.023832\n",
       "21           29  0.021926\n",
       "7            17  0.020019"
      ]
     },
     "execution_count": 81,
     "metadata": {},
     "output_type": "execute_result"
    }
   ],
   "source": [
    "most_important.sort_values(by='values', ascending=False)[3 : 20]"
   ]
  },
  {
   "cell_type": "markdown",
   "metadata": {},
   "source": [
    "__Ok, now let's try to build models that will predict the author!__"
   ]
  },
  {
   "cell_type": "markdown",
   "metadata": {},
   "source": [
    "__MLP__"
   ]
  },
  {
   "cell_type": "code",
   "execution_count": 82,
   "metadata": {},
   "outputs": [],
   "source": [
    "X = X.drop(columns=['message_length', 'labels', 'author', 'labels_3', 'labels_4'])"
   ]
  },
  {
   "cell_type": "code",
   "execution_count": 83,
   "metadata": {},
   "outputs": [],
   "source": [
    "from sklearn.model_selection import train_test_split\n",
    "\n",
    "X_train, X_test, y_train, y_test = train_test_split(X, y, test_size=0.25, random_state=42)"
   ]
  },
  {
   "cell_type": "code",
   "execution_count": 84,
   "metadata": {},
   "outputs": [],
   "source": [
    "ranges = [0.0001, 0.001, 0.01, 0.1]"
   ]
  },
  {
   "cell_type": "code",
   "execution_count": 85,
   "metadata": {},
   "outputs": [
    {
     "data": {
      "text/plain": [
       "MLPClassifier(activation='relu', alpha=0.1, batch_size='auto', beta_1=0.9,\n",
       "              beta_2=0.999, early_stopping=False, epsilon=1e-08,\n",
       "              hidden_layer_sizes=(100,), learning_rate='constant',\n",
       "              learning_rate_init=0.001, max_iter=200, momentum=0.9,\n",
       "              n_iter_no_change=10, nesterovs_momentum=True, power_t=0.5,\n",
       "              random_state=None, shuffle=True, solver='lbfgs', tol=0.0001,\n",
       "              validation_fraction=0.1, verbose=False, warm_start=False)"
      ]
     },
     "execution_count": 85,
     "metadata": {},
     "output_type": "execute_result"
    }
   ],
   "source": [
    "from sklearn.neural_network import MLPClassifier\n",
    "\n",
    "#NOTE: This was previously tuned with GridSearch\n",
    "mlp = MLPClassifier(activation='relu', solver='lbfgs', alpha=0.1)\n",
    "mlp.fit(X_train, y_train)"
   ]
  },
  {
   "cell_type": "code",
   "execution_count": 86,
   "metadata": {},
   "outputs": [
    {
     "name": "stdout",
     "output_type": "stream",
     "text": [
      "The r^2 of our training data is 0.8838\n",
      "The r^2 of our test data is 0.6382\n"
     ]
    }
   ],
   "source": [
    "print('The r^2 of our training data is {}'.format(round(mlp.score(X_train, y_train), 4)))\n",
    "print('The r^2 of our test data is {}'.format(round(mlp.score(X_test, y_test), 4)))"
   ]
  },
  {
   "cell_type": "markdown",
   "metadata": {},
   "source": [
    "__Random Forest Regressor__"
   ]
  },
  {
   "cell_type": "code",
   "execution_count": 87,
   "metadata": {},
   "outputs": [
    {
     "data": {
      "text/plain": [
       "RandomForestClassifier(bootstrap=True, class_weight=None, criterion='gini',\n",
       "                       max_depth=None, max_features='sqrt', max_leaf_nodes=None,\n",
       "                       min_impurity_decrease=0.0, min_impurity_split=None,\n",
       "                       min_samples_leaf=1, min_samples_split=2,\n",
       "                       min_weight_fraction_leaf=0.0, n_estimators=285,\n",
       "                       n_jobs=None, oob_score=False, random_state=None,\n",
       "                       verbose=0, warm_start=False)"
      ]
     },
     "execution_count": 87,
     "metadata": {},
     "output_type": "execute_result"
    }
   ],
   "source": [
    "from sklearn.ensemble import RandomForestClassifier\n",
    "\n",
    "#NOTE: This was tuned with GridSearch\n",
    "rfc = RandomForestClassifier(max_features='sqrt', n_estimators=285)\n",
    "rfc.fit(X_train, y_train)"
   ]
  },
  {
   "cell_type": "code",
   "execution_count": 88,
   "metadata": {},
   "outputs": [
    {
     "name": "stdout",
     "output_type": "stream",
     "text": [
      "The r^2 of our test data is 0.6688\n",
      "The r^2 of our training data is 0.9493\n"
     ]
    }
   ],
   "source": [
    "print('The r^2 of our test data is {}'.format(round(rfc.score(X_test, y_test), 4)))\n",
    "print('The r^2 of our training data is {}'.format(round(rfc.score(X_train, y_train), 4)))"
   ]
  },
  {
   "cell_type": "markdown",
   "metadata": {},
   "source": [
    "__Random Forest w/Neural Network Feature Generation__"
   ]
  },
  {
   "cell_type": "code",
   "execution_count": 89,
   "metadata": {},
   "outputs": [],
   "source": [
    "from sklearn.neural_network import BernoulliRBM\n",
    "\n",
    "rbm = BernoulliRBM()\n",
    "X_N = rbm.fit_transform(X)"
   ]
  },
  {
   "cell_type": "code",
   "execution_count": 90,
   "metadata": {},
   "outputs": [],
   "source": [
    "X_train, X_test, y_train, y_test = train_test_split(X_N, y, test_size=0.2)"
   ]
  },
  {
   "cell_type": "code",
   "execution_count": 91,
   "metadata": {},
   "outputs": [
    {
     "data": {
      "text/plain": [
       "RandomForestClassifier(bootstrap=True, class_weight=None, criterion='gini',\n",
       "                       max_depth=None, max_features='sqrt', max_leaf_nodes=None,\n",
       "                       min_impurity_decrease=0.0, min_impurity_split=None,\n",
       "                       min_samples_leaf=1, min_samples_split=2,\n",
       "                       min_weight_fraction_leaf=0.0, n_estimators=285,\n",
       "                       n_jobs=None, oob_score=False, random_state=None,\n",
       "                       verbose=0, warm_start=False)"
      ]
     },
     "execution_count": 91,
     "metadata": {},
     "output_type": "execute_result"
    }
   ],
   "source": [
    "rbm_rfc = RandomForestClassifier(n_estimators=285, max_features='sqrt')\n",
    "rbm_rfc.fit(X_train, y_train)"
   ]
  },
  {
   "cell_type": "code",
   "execution_count": 92,
   "metadata": {},
   "outputs": [
    {
     "name": "stdout",
     "output_type": "stream",
     "text": [
      "The r^2 of our test data is 0.6745\n",
      "The r^2 of our training data is 0.9485\n"
     ]
    }
   ],
   "source": [
    "print('The r^2 of our test data is {}'.format(round(rbm_rfc.score(X_test, y_test), 4)))\n",
    "print('The r^2 of our training data is {}'.format(round(rbm_rfc.score(X_train, y_train), 4)))"
   ]
  },
  {
   "cell_type": "markdown",
   "metadata": {},
   "source": [
    "## Is the holdout group similar to our training group?"
   ]
  },
  {
   "cell_type": "code",
   "execution_count": 93,
   "metadata": {},
   "outputs": [
    {
     "name": "stdout",
     "output_type": "stream",
     "text": [
      "Number of clusters: 1\n",
      "1 Clusters is no good\n",
      "\n",
      "Number of clusters: 2\n",
      "0.1423881659468522\n",
      "\n",
      "Number of clusters: 3\n",
      "0.2313073494657179\n",
      "\n",
      "Number of clusters: 4\n",
      "0.19861182495465526\n",
      "\n",
      "Number of clusters: 5\n",
      "0.07048698129090714\n",
      "\n",
      "Number of clusters: 6\n",
      "0.2208006047971269\n",
      "\n",
      "Number of clusters: 7\n",
      "0.0478667859985438\n",
      "\n",
      "Number of clusters: 8\n",
      "0.1109797613177605\n",
      "\n",
      "Number of clusters: 9\n",
      "0.0730094123402561\n",
      "\n",
      "Number of clusters: 10\n",
      "0.06708341030090641\n",
      "\n"
     ]
    }
   ],
   "source": [
    "from sklearn import metrics\n",
    "from sklearn.metrics import pairwise_distances\n",
    "from sklearn.cluster import KMeans\n",
    "from sklearn.preprocessing import normalize\n",
    "\n",
    "for i in range(1, 11):\n",
    "    try:\n",
    "        model = KMeans(n_clusters=i, random_state=42).fit(X_holdout.drop(columns='message_length'))\n",
    "        labels = model.labels_\n",
    "        print('Number of clusters: {}'.format(i))\n",
    "        print(metrics.silhouette_score(X_holdout.drop(columns='message_length'), labels, metric='euclidean'))\n",
    "        print('')\n",
    "    except:\n",
    "        print('{} Clusters is no good'.format(i))\n",
    "        print('')"
   ]
  },
  {
   "cell_type": "markdown",
   "metadata": {},
   "source": [
    "__Mean Shift__"
   ]
  },
  {
   "cell_type": "code",
   "execution_count": 94,
   "metadata": {},
   "outputs": [
    {
     "name": "stdout",
     "output_type": "stream",
     "text": [
      "Number of estimated clusters: 1\n"
     ]
    }
   ],
   "source": [
    "from sklearn.cluster import MeanShift, estimate_bandwidth\n",
    "\n",
    "# Here we set the bandwidth. This function automatically derives a bandwidth\n",
    "# number based on an inspection of the distances among points in the data.\n",
    "bandwidth = estimate_bandwidth(X_holdout, quantile=0.2, n_samples=500)\n",
    "\n",
    "# Declare and fit the model.\n",
    "ms = MeanShift(bandwidth=bandwidth, bin_seeding=True)\n",
    "ms.fit(X_holdout)\n",
    "\n",
    "# Extract cluster assignments for each data point.\n",
    "labels = ms.labels_\n",
    "\n",
    "# Coordinates of the cluster centers.\n",
    "cluster_centers = ms.cluster_centers_\n",
    "\n",
    "# Count our clusters.\n",
    "n_clusters_ = len(np.unique(labels))\n",
    "\n",
    "print(\"Number of estimated clusters: {}\".format(n_clusters_))"
   ]
  },
  {
   "cell_type": "markdown",
   "metadata": {},
   "source": [
    "__MLP__"
   ]
  },
  {
   "cell_type": "code",
   "execution_count": 95,
   "metadata": {},
   "outputs": [
    {
     "data": {
      "text/plain": [
       "0.6391821096254594"
      ]
     },
     "execution_count": 95,
     "metadata": {},
     "output_type": "execute_result"
    }
   ],
   "source": [
    "mlp.score(X_holdout.drop(columns='message_length'), y_holdout)"
   ]
  },
  {
   "cell_type": "markdown",
   "metadata": {},
   "source": [
    "__Random Forest__"
   ]
  },
  {
   "cell_type": "code",
   "execution_count": 96,
   "metadata": {},
   "outputs": [
    {
     "data": {
      "text/plain": [
       "0.6787473610133709"
      ]
     },
     "execution_count": 96,
     "metadata": {},
     "output_type": "execute_result"
    }
   ],
   "source": [
    "rfc.score(X_holdout.drop(columns='message_length'), y_holdout)"
   ]
  },
  {
   "cell_type": "markdown",
   "metadata": {},
   "source": [
    "__RBM -> RFC__"
   ]
  },
  {
   "cell_type": "code",
   "execution_count": 104,
   "metadata": {},
   "outputs": [],
   "source": [
    "rbm = BernoulliRBM()\n",
    "X_N = rbm.fit_transform(X_holdout.drop(columns='message_length'))"
   ]
  },
  {
   "cell_type": "code",
   "execution_count": 106,
   "metadata": {},
   "outputs": [],
   "source": [
    "X_train, X_test, y_train, y_test = train_test_split(X_N, y_holdout, test_size=0.2, random_state=42)"
   ]
  },
  {
   "cell_type": "code",
   "execution_count": 107,
   "metadata": {},
   "outputs": [
    {
     "name": "stdout",
     "output_type": "stream",
     "text": [
      "The R^2 of our training set is 0.962809109568957\n",
      "The R^2 of our test set is 0.5707584050039093\n"
     ]
    }
   ],
   "source": [
    "rbm_rfc.fit(X_train, y_train)\n",
    "\n",
    "print('The R^2 of our training set is {}'.format(rbm_rfc.score(X_train, y_train)))\n",
    "print('The R^2 of our test set is {}'.format(rbm_rfc.score(X_test, y_test)))"
   ]
  },
  {
   "cell_type": "markdown",
   "metadata": {},
   "source": [
    "# TDIF Vectorizer"
   ]
  },
  {
   "cell_type": "code",
   "execution_count": 108,
   "metadata": {},
   "outputs": [],
   "source": [
    "from sklearn.feature_extraction.text import TfidfVectorizer\n",
    "\n",
    "vectorizer = TfidfVectorizer(stop_words='english', max_features=1000)\n",
    "\n",
    "vector = vectorizer.fit_transform(features['sentence'])"
   ]
  },
  {
   "cell_type": "code",
   "execution_count": 109,
   "metadata": {},
   "outputs": [],
   "source": [
    "#set up our X and y values\n",
    "columns = vectorizer.get_feature_names()\n",
    "length = features['message_length'].tolist()\n",
    "\n",
    "X = pd.DataFrame(vector.toarray(), columns=columns)\n",
    "X['message_length'] = length\n",
    "y = target"
   ]
  },
  {
   "cell_type": "code",
   "execution_count": 110,
   "metadata": {},
   "outputs": [],
   "source": [
    "#setup our holdout group\n",
    "from sklearn.model_selection import train_test_split\n",
    "\n",
    "X, X_holdout, y, y_holdout = train_test_split(X, y, test_size=0.25, random_state=42)"
   ]
  },
  {
   "cell_type": "markdown",
   "metadata": {},
   "source": [
    "Creating a series of clusters."
   ]
  },
  {
   "cell_type": "code",
   "execution_count": 111,
   "metadata": {
    "scrolled": false
   },
   "outputs": [
    {
     "name": "stdout",
     "output_type": "stream",
     "text": [
      "Number of clusters: 1\n",
      "1 Clusters is no good\n",
      "\n",
      "Number of clusters: 2\n",
      "0.017167757118031885\n",
      "\n",
      "Number of clusters: 3\n",
      "0.02134351017510026\n",
      "\n",
      "Number of clusters: 4\n",
      "0.021688855059722508\n",
      "\n",
      "Number of clusters: 5\n",
      "0.03077414924705339\n",
      "\n",
      "Number of clusters: 6\n",
      "0.031296996723750733\n",
      "\n",
      "Number of clusters: 7\n",
      "0.031194467116451147\n",
      "\n",
      "Number of clusters: 8\n",
      "0.030855015647644524\n",
      "\n",
      "Number of clusters: 9\n",
      "0.03827123270710004\n",
      "\n",
      "Number of clusters: 10\n",
      "0.03955521831746798\n",
      "\n"
     ]
    }
   ],
   "source": [
    "from sklearn import metrics\n",
    "from sklearn.metrics import pairwise_distances\n",
    "from sklearn.cluster import KMeans\n",
    "from sklearn.preprocessing import normalize\n",
    "\n",
    "for i in range(1, 11):\n",
    "    try:\n",
    "        model = KMeans(n_clusters=i, random_state=42).fit(X.drop(columns='message_length'))\n",
    "        labels = model.labels_\n",
    "        print('Number of clusters: {}'.format(i))\n",
    "        print(metrics.silhouette_score(X.drop(columns='message_length'), labels, metric='euclidean'))\n",
    "        print('')\n",
    "    except:\n",
    "        print('{} Clusters is no good'.format(i))\n",
    "        print('')"
   ]
  },
  {
   "cell_type": "code",
   "execution_count": 112,
   "metadata": {},
   "outputs": [
    {
     "name": "stdout",
     "output_type": "stream",
     "text": [
      "Number of estimated clusters: 1\n"
     ]
    }
   ],
   "source": [
    "from sklearn.cluster import MeanShift, estimate_bandwidth\n",
    "\n",
    "# Here we set the bandwidth. This function automatically derives a bandwidth\n",
    "# number based on an inspection of the distances among points in the data.\n",
    "bandwidth = estimate_bandwidth(X, quantile=0.2, n_samples=500)\n",
    "\n",
    "# Declare and fit the model.\n",
    "ms = MeanShift(bandwidth=bandwidth, bin_seeding=True)\n",
    "ms.fit(X)\n",
    "\n",
    "# Extract cluster assignments for each data point.\n",
    "labels = ms.labels_\n",
    "\n",
    "# Coordinates of the cluster centers.\n",
    "cluster_centers = ms.cluster_centers_\n",
    "\n",
    "# Count our clusters.\n",
    "n_clusters_ = len(np.unique(labels))\n",
    "\n",
    "print(\"Number of estimated clusters: {}\".format(n_clusters_))"
   ]
  },
  {
   "cell_type": "markdown",
   "metadata": {},
   "source": [
    "__Wow, because these silhouette scores are all very poor, we won't use the tdif vectorizer.__"
   ]
  },
  {
   "cell_type": "markdown",
   "metadata": {},
   "source": [
    "# Increasing stop words using NLTK"
   ]
  },
  {
   "cell_type": "code",
   "execution_count": 28,
   "metadata": {},
   "outputs": [],
   "source": [
    "authors = df.author.unique().tolist()\n",
    "\n",
    "names = []\n",
    "for author in authors:\n",
    "    #list w/out email\n",
    "    email = author.split('@')[0]\n",
    "    \n",
    "    #append the first and last name to the names value\n",
    "    for name in email.split('.'):\n",
    "        names.append(name)"
   ]
  },
  {
   "cell_type": "code",
   "execution_count": 32,
   "metadata": {},
   "outputs": [],
   "source": [
    "import nltk\n",
    "from nltk.tokenize import word_tokenize\n",
    "from nltk.corpus import stopwords\n",
    "\n",
    "stop_words = stopwords.words('english')\n",
    "stop_words.extend(['enron', 'subject', 'email', 'said', 'enronenron', 'enronenroncc', 'www', 'youre'])\n",
    "stop_words.extend(names)\n",
    "\n",
    "nltk_stop_list = []\n",
    "\n",
    "for sentence in features.sentence:\n",
    "    words = word_tokenize(sentence)\n",
    "    new_list = []\n",
    "    sentence = ' '\n",
    "    \n",
    "    for word in words:\n",
    "        if word not in stop_words:\n",
    "            new_list.append(word)\n",
    "    \n",
    "    sentence = sentence.join(new_list)\n",
    "    nltk_stop_list.append(sentence)\n",
    "    \n",
    "features['nltk_sentence'] = nltk_stop_list"
   ]
  },
  {
   "cell_type": "code",
   "execution_count": 33,
   "metadata": {},
   "outputs": [],
   "source": [
    "from sklearn.feature_extraction.text import CountVectorizer\n",
    "\n",
    "vectorizer = CountVectorizer(stop_words='english', max_features=1000)\n",
    "\n",
    "vector = vectorizer.fit_transform(features['nltk_sentence'])"
   ]
  },
  {
   "cell_type": "code",
   "execution_count": 34,
   "metadata": {},
   "outputs": [],
   "source": [
    "#set up our X and y values\n",
    "columns = vectorizer.get_feature_names()\n",
    "length = features['message_length'].tolist()\n",
    "\n",
    "X = pd.DataFrame(vector.toarray(), columns=columns)\n",
    "X['message_length'] = length\n",
    "y = target"
   ]
  },
  {
   "cell_type": "markdown",
   "metadata": {},
   "source": [
    "__Silhouette Coefficient__"
   ]
  },
  {
   "cell_type": "code",
   "execution_count": 40,
   "metadata": {},
   "outputs": [
    {
     "name": "stdout",
     "output_type": "stream",
     "text": [
      "Number of clusters: 1\n",
      "1 Clusters is no good\n",
      "\n",
      "Number of clusters: 2\n",
      "0.1852707641371022\n",
      "\n",
      "Number of clusters: 3\n",
      "0.25493170499500223\n",
      "\n",
      "Number of clusters: 4\n",
      "0.05027807417834785\n",
      "\n",
      "Number of clusters: 5\n",
      "0.1085933000131641\n",
      "\n",
      "Number of clusters: 6\n",
      "0.04865633460972528\n",
      "\n",
      "Number of clusters: 7\n",
      "0.04562028005792532\n",
      "\n",
      "Number of clusters: 8\n",
      "0.13082931454301575\n",
      "\n",
      "Number of clusters: 9\n",
      "0.10469603450919258\n",
      "\n",
      "Number of clusters: 10\n",
      "0.09387917551248194\n",
      "\n"
     ]
    }
   ],
   "source": [
    "from sklearn import metrics\n",
    "from sklearn.metrics import pairwise_distances\n",
    "from sklearn.cluster import KMeans\n",
    "from sklearn.preprocessing import normalize\n",
    "\n",
    "for i in range(1, 11):\n",
    "    try:\n",
    "        model = KMeans(n_clusters=i, random_state=42).fit(X.drop(columns='message_length'))\n",
    "        labels = model.labels_\n",
    "        print('Number of clusters: {}'.format(i))\n",
    "        print(metrics.silhouette_score(X.drop(columns='message_length'), labels, metric='euclidean'))\n",
    "        print('')\n",
    "    except:\n",
    "        print('{} Clusters is no good'.format(i))\n",
    "        print('')"
   ]
  },
  {
   "cell_type": "markdown",
   "metadata": {},
   "source": [
    "__Mean Shift__"
   ]
  },
  {
   "cell_type": "code",
   "execution_count": 42,
   "metadata": {
    "scrolled": true
   },
   "outputs": [
    {
     "name": "stdout",
     "output_type": "stream",
     "text": [
      "Number of estimated clusters: 1\n"
     ]
    }
   ],
   "source": [
    "from sklearn.cluster import MeanShift, estimate_bandwidth\n",
    "\n",
    "# Here we set the bandwidth. This function automatically derives a bandwidth\n",
    "# number based on an inspection of the distances among points in the data.\n",
    "bandwidth = estimate_bandwidth(X, quantile=0.2, n_samples=500)\n",
    "\n",
    "# Declare and fit the model.\n",
    "ms = MeanShift(bandwidth=bandwidth, bin_seeding=True)\n",
    "ms.fit(X)\n",
    "\n",
    "# Extract cluster assignments for each data point.\n",
    "labels = ms.labels_\n",
    "\n",
    "# Coordinates of the cluster centers.\n",
    "cluster_centers = ms.cluster_centers_\n",
    "\n",
    "# Count our clusters.\n",
    "n_clusters_ = len(np.unique(labels))\n",
    "\n",
    "print(\"Number of estimated clusters: {}\".format(n_clusters_))"
   ]
  },
  {
   "cell_type": "markdown",
   "metadata": {},
   "source": [
    "__3 groups__"
   ]
  },
  {
   "cell_type": "code",
   "execution_count": 35,
   "metadata": {},
   "outputs": [],
   "source": [
    "X['author'] = y.tolist()"
   ]
  },
  {
   "cell_type": "code",
   "execution_count": 36,
   "metadata": {},
   "outputs": [
    {
     "data": {
      "text/plain": [
       "KMeans(algorithm='auto', copy_x=True, init='k-means++', max_iter=300,\n",
       "       n_clusters=3, n_init=10, n_jobs=None, precompute_distances='auto',\n",
       "       random_state=42, tol=0.0001, verbose=0)"
      ]
     },
     "execution_count": 36,
     "metadata": {},
     "output_type": "execute_result"
    }
   ],
   "source": [
    "from sklearn.cluster import KMeans\n",
    "kmeans = KMeans(n_clusters=3, random_state=42)\n",
    "\n",
    "kmeans.fit(X.drop(columns=['message_length', 'author']))"
   ]
  },
  {
   "cell_type": "code",
   "execution_count": 37,
   "metadata": {
    "scrolled": true
   },
   "outputs": [
    {
     "data": {
      "text/plain": [
       "1    99688\n",
       "0     1330\n",
       "2     1292\n",
       "Name: labels_3, dtype: int64"
      ]
     },
     "execution_count": 37,
     "metadata": {},
     "output_type": "execute_result"
    }
   ],
   "source": [
    "X['labels_3'] = kmeans.labels_\n",
    "X.labels_3.value_counts()"
   ]
  },
  {
   "cell_type": "code",
   "execution_count": 38,
   "metadata": {
    "scrolled": false
   },
   "outputs": [
    {
     "data": {
      "text/plain": [
       "labels_3\n",
       "0    146.303008\n",
       "1    105.244162\n",
       "2     97.583591\n",
       "Name: message_length, dtype: float64"
      ]
     },
     "execution_count": 38,
     "metadata": {},
     "output_type": "execute_result"
    }
   ],
   "source": [
    "X.groupby('labels_3')['message_length'].mean()"
   ]
  },
  {
   "cell_type": "code",
   "execution_count": 39,
   "metadata": {},
   "outputs": [
    {
     "data": {
      "image/png": "[encoded data removed]",
      "text/plain": [
       "<Figure size 1296x432 with 3 Axes>"
      ]
     },
     "metadata": {
      "needs_background": "light"
     },
     "output_type": "display_data"
    }
   ],
   "source": [
    "plt.figure(figsize=(18, 6))\n",
    "plt.subplots_adjust(left=None, right=None, bottom=0.1, top=0.9, hspace=2.5)\n",
    "\n",
    "plt.subplot(1, 3, 1)\n",
    "sns.barplot(X.groupby('labels_3')['author'].value_counts()[0].index, X.groupby('labels_3')['author'].value_counts()[0])\n",
    "plt.title('Group 0')\n",
    "plt.xticks(rotation='vertical')\n",
    "\n",
    "plt.subplot(1, 3, 2)\n",
    "sns.barplot(X.groupby('labels_3')['author'].value_counts()[1].index, X.groupby('labels_3')['author'].value_counts()[1])\n",
    "plt.title('Group 1')\n",
    "plt.xticks(rotation='vertical')\n",
    "\n",
    "plt.subplot(1, 3, 3)\n",
    "sns.barplot(X.groupby('labels_3')['author'].value_counts()[2].index, X.groupby('labels_3')['author'].value_counts()[2])\n",
    "plt.title('Group 2')\n",
    "plt.xticks(rotation='vertical')\n",
    "\n",
    "plt.show()"
   ]
  },
  {
   "cell_type": "code",
   "execution_count": 40,
   "metadata": {},
   "outputs": [],
   "source": [
    "most_important = pd.DataFrame()\n",
    "\n",
    "most_important['columns'] = X.groupby('labels_3').mean().columns.tolist()\n",
    "most_important['values'] = X.groupby('labels_3').mean().loc[0, :].tolist()"
   ]
  },
  {
   "cell_type": "code",
   "execution_count": 41,
   "metadata": {},
   "outputs": [
    {
     "data": {
      "text/html": [
       "<div>\n",
       "<style scoped>\n",
       "    .dataframe tbody tr th:only-of-type {\n",
       "        vertical-align: middle;\n",
       "    }\n",
       "\n",
       "    .dataframe tbody tr th {\n",
       "        vertical-align: top;\n",
       "    }\n",
       "\n",
       "    .dataframe thead th {\n",
       "        text-align: right;\n",
       "    }\n",
       "</style>\n",
       "<table border=\"1\" class=\"dataframe\">\n",
       "  <thead>\n",
       "    <tr style=\"text-align: right;\">\n",
       "      <th></th>\n",
       "      <th>columns</th>\n",
       "      <th>values</th>\n",
       "    </tr>\n",
       "  </thead>\n",
       "  <tbody>\n",
       "    <tr>\n",
       "      <td>574</td>\n",
       "      <td>mkt_type</td>\n",
       "      <td>1.000000</td>\n",
       "    </tr>\n",
       "    <tr>\n",
       "      <td>922</td>\n",
       "      <td>trans_date</td>\n",
       "      <td>0.986466</td>\n",
       "    </tr>\n",
       "    <tr>\n",
       "      <td>791</td>\n",
       "      <td>sc_id</td>\n",
       "      <td>0.986466</td>\n",
       "    </tr>\n",
       "    <tr>\n",
       "      <td>323</td>\n",
       "      <td>epmi</td>\n",
       "      <td>0.500000</td>\n",
       "    </tr>\n",
       "    <tr>\n",
       "      <td>792</td>\n",
       "      <td>sched_type</td>\n",
       "      <td>0.312782</td>\n",
       "    </tr>\n",
       "    <tr>\n",
       "      <td>310</td>\n",
       "      <td>engy</td>\n",
       "      <td>0.312782</td>\n",
       "    </tr>\n",
       "    <tr>\n",
       "      <td>726</td>\n",
       "      <td>purch_sale</td>\n",
       "      <td>0.312782</td>\n",
       "    </tr>\n",
       "    <tr>\n",
       "      <td>920</td>\n",
       "      <td>trading_sc</td>\n",
       "      <td>0.312782</td>\n",
       "    </tr>\n",
       "    <tr>\n",
       "      <td>877</td>\n",
       "      <td>table</td>\n",
       "      <td>0.309023</td>\n",
       "    </tr>\n",
       "    <tr>\n",
       "      <td>955</td>\n",
       "      <td>variance</td>\n",
       "      <td>0.309023</td>\n",
       "    </tr>\n",
       "    <tr>\n",
       "      <td>247</td>\n",
       "      <td>deal_no</td>\n",
       "      <td>0.302256</td>\n",
       "    </tr>\n",
       "    <tr>\n",
       "      <td>681</td>\n",
       "      <td>pnt_of_intrc</td>\n",
       "      <td>0.302256</td>\n",
       "    </tr>\n",
       "    <tr>\n",
       "      <td>311</td>\n",
       "      <td>engy_type</td>\n",
       "      <td>0.289474</td>\n",
       "    </tr>\n",
       "    <tr>\n",
       "      <td>905</td>\n",
       "      <td>tie_point</td>\n",
       "      <td>0.289474</td>\n",
       "    </tr>\n",
       "    <tr>\n",
       "      <td>448</td>\n",
       "      <td>interchg_id</td>\n",
       "      <td>0.289474</td>\n",
       "    </tr>\n",
       "    <tr>\n",
       "      <td>293</td>\n",
       "      <td>ectrt</td>\n",
       "      <td>0.236090</td>\n",
       "    </tr>\n",
       "    <tr>\n",
       "      <td>516</td>\n",
       "      <td>load_id</td>\n",
       "      <td>0.233083</td>\n",
       "    </tr>\n",
       "  </tbody>\n",
       "</table>\n",
       "</div>"
      ],
      "text/plain": [
       "          columns    values\n",
       "574      mkt_type  1.000000\n",
       "922    trans_date  0.986466\n",
       "791         sc_id  0.986466\n",
       "323          epmi  0.500000\n",
       "792    sched_type  0.312782\n",
       "310          engy  0.312782\n",
       "726    purch_sale  0.312782\n",
       "920    trading_sc  0.312782\n",
       "877         table  0.309023\n",
       "955      variance  0.309023\n",
       "247       deal_no  0.302256\n",
       "681  pnt_of_intrc  0.302256\n",
       "311     engy_type  0.289474\n",
       "905     tie_point  0.289474\n",
       "448   interchg_id  0.289474\n",
       "293         ectrt  0.236090\n",
       "516       load_id  0.233083"
      ]
     },
     "execution_count": 41,
     "metadata": {},
     "output_type": "execute_result"
    }
   ],
   "source": [
    "most_important.sort_values(by='values', ascending=False)[3 : 20]"
   ]
  },
  {
   "cell_type": "code",
   "execution_count": 42,
   "metadata": {},
   "outputs": [],
   "source": [
    "most_important = pd.DataFrame()\n",
    "\n",
    "most_important['columns'] = X.groupby('labels_3').mean().columns.tolist()\n",
    "most_important['values'] = X.groupby('labels_3').mean().loc[1, :].tolist()"
   ]
  },
  {
   "cell_type": "code",
   "execution_count": 43,
   "metadata": {
    "scrolled": false
   },
   "outputs": [
    {
     "data": {
      "text/html": [
       "<div>\n",
       "<style scoped>\n",
       "    .dataframe tbody tr th:only-of-type {\n",
       "        vertical-align: middle;\n",
       "    }\n",
       "\n",
       "    .dataframe tbody tr th {\n",
       "        vertical-align: top;\n",
       "    }\n",
       "\n",
       "    .dataframe thead th {\n",
       "        text-align: right;\n",
       "    }\n",
       "</style>\n",
       "<table border=\"1\" class=\"dataframe\">\n",
       "  <thead>\n",
       "    <tr style=\"text-align: right;\">\n",
       "      <th></th>\n",
       "      <th>columns</th>\n",
       "      <th>values</th>\n",
       "    </tr>\n",
       "  </thead>\n",
       "  <tbody>\n",
       "    <tr>\n",
       "      <td>308</td>\n",
       "      <td>energy</td>\n",
       "      <td>0.033805</td>\n",
       "    </tr>\n",
       "    <tr>\n",
       "      <td>157</td>\n",
       "      <td>california</td>\n",
       "      <td>0.033143</td>\n",
       "    </tr>\n",
       "    <tr>\n",
       "      <td>372</td>\n",
       "      <td>forwarded</td>\n",
       "      <td>0.032612</td>\n",
       "    </tr>\n",
       "    <tr>\n",
       "      <td>482</td>\n",
       "      <td>know</td>\n",
       "      <td>0.030204</td>\n",
       "    </tr>\n",
       "    <tr>\n",
       "      <td>211</td>\n",
       "      <td>corp</td>\n",
       "      <td>0.029311</td>\n",
       "    </tr>\n",
       "    <tr>\n",
       "      <td>597</td>\n",
       "      <td>new</td>\n",
       "      <td>0.028639</td>\n",
       "    </tr>\n",
       "    <tr>\n",
       "      <td>679</td>\n",
       "      <td>pm</td>\n",
       "      <td>0.027476</td>\n",
       "    </tr>\n",
       "    <tr>\n",
       "      <td>168</td>\n",
       "      <td>cc</td>\n",
       "      <td>0.027406</td>\n",
       "    </tr>\n",
       "    <tr>\n",
       "      <td>443</td>\n",
       "      <td>information</td>\n",
       "      <td>0.026733</td>\n",
       "    </tr>\n",
       "    <tr>\n",
       "      <td>795</td>\n",
       "      <td>schedules</td>\n",
       "      <td>0.026242</td>\n",
       "    </tr>\n",
       "    <tr>\n",
       "      <td>591</td>\n",
       "      <td>need</td>\n",
       "      <td>0.026242</td>\n",
       "    </tr>\n",
       "    <tr>\n",
       "      <td>833</td>\n",
       "      <td>sld</td>\n",
       "      <td>0.025570</td>\n",
       "    </tr>\n",
       "    <tr>\n",
       "      <td>81</td>\n",
       "      <td>agreement</td>\n",
       "      <td>0.024406</td>\n",
       "    </tr>\n",
       "    <tr>\n",
       "      <td>907</td>\n",
       "      <td>time</td>\n",
       "      <td>0.023714</td>\n",
       "    </tr>\n",
       "    <tr>\n",
       "      <td>503</td>\n",
       "      <td>like</td>\n",
       "      <td>0.023533</td>\n",
       "    </tr>\n",
       "    <tr>\n",
       "      <td>238</td>\n",
       "      <td>date</td>\n",
       "      <td>0.023232</td>\n",
       "    </tr>\n",
       "    <tr>\n",
       "      <td>246</td>\n",
       "      <td>deal</td>\n",
       "      <td>0.023022</td>\n",
       "    </tr>\n",
       "  </tbody>\n",
       "</table>\n",
       "</div>"
      ],
      "text/plain": [
       "         columns    values\n",
       "308       energy  0.033805\n",
       "157   california  0.033143\n",
       "372    forwarded  0.032612\n",
       "482         know  0.030204\n",
       "211         corp  0.029311\n",
       "597          new  0.028639\n",
       "679           pm  0.027476\n",
       "168           cc  0.027406\n",
       "443  information  0.026733\n",
       "795    schedules  0.026242\n",
       "591         need  0.026242\n",
       "833          sld  0.025570\n",
       "81     agreement  0.024406\n",
       "907         time  0.023714\n",
       "503         like  0.023533\n",
       "238         date  0.023232\n",
       "246         deal  0.023022"
      ]
     },
     "execution_count": 43,
     "metadata": {},
     "output_type": "execute_result"
    }
   ],
   "source": [
    "most_important.sort_values(by='values', ascending=False)[3 : 20]"
   ]
  },
  {
   "cell_type": "code",
   "execution_count": 44,
   "metadata": {},
   "outputs": [],
   "source": [
    "most_important = pd.DataFrame()\n",
    "\n",
    "most_important['columns'] = X.groupby('labels_3').mean().columns.tolist()\n",
    "most_important['values'] = X.groupby('labels_3').mean().loc[2, :].tolist()"
   ]
  },
  {
   "cell_type": "code",
   "execution_count": 45,
   "metadata": {},
   "outputs": [
    {
     "data": {
      "text/html": [
       "<div>\n",
       "<style scoped>\n",
       "    .dataframe tbody tr th:only-of-type {\n",
       "        vertical-align: middle;\n",
       "    }\n",
       "\n",
       "    .dataframe tbody tr th {\n",
       "        vertical-align: top;\n",
       "    }\n",
       "\n",
       "    .dataframe thead th {\n",
       "        text-align: right;\n",
       "    }\n",
       "</style>\n",
       "<table border=\"1\" class=\"dataframe\">\n",
       "  <thead>\n",
       "    <tr style=\"text-align: right;\">\n",
       "      <th></th>\n",
       "      <th>columns</th>\n",
       "      <th>values</th>\n",
       "    </tr>\n",
       "  </thead>\n",
       "  <tbody>\n",
       "    <tr>\n",
       "      <td>446</td>\n",
       "      <td>initialize</td>\n",
       "      <td>0.999226</td>\n",
       "    </tr>\n",
       "    <tr>\n",
       "      <td>309</td>\n",
       "      <td>engine</td>\n",
       "      <td>0.999226</td>\n",
       "    </tr>\n",
       "    <tr>\n",
       "      <td>609</td>\n",
       "      <td>occurred</td>\n",
       "      <td>0.999226</td>\n",
       "    </tr>\n",
       "    <tr>\n",
       "      <td>22</td>\n",
       "      <td>2a</td>\n",
       "      <td>0.999226</td>\n",
       "    </tr>\n",
       "    <tr>\n",
       "      <td>114</td>\n",
       "      <td>attempting</td>\n",
       "      <td>0.999226</td>\n",
       "    </tr>\n",
       "    <tr>\n",
       "      <td>146</td>\n",
       "      <td>borland</td>\n",
       "      <td>0.999226</td>\n",
       "    </tr>\n",
       "    <tr>\n",
       "      <td>244</td>\n",
       "      <td>dbcaps97data</td>\n",
       "      <td>0.129257</td>\n",
       "    </tr>\n",
       "    <tr>\n",
       "      <td>660</td>\n",
       "      <td>perform</td>\n",
       "      <td>0.129257</td>\n",
       "    </tr>\n",
       "    <tr>\n",
       "      <td>191</td>\n",
       "      <td>closed</td>\n",
       "      <td>0.129257</td>\n",
       "    </tr>\n",
       "    <tr>\n",
       "      <td>623</td>\n",
       "      <td>operation</td>\n",
       "      <td>0.129257</td>\n",
       "    </tr>\n",
       "    <tr>\n",
       "      <td>812</td>\n",
       "      <td>server</td>\n",
       "      <td>0.002322</td>\n",
       "    </tr>\n",
       "    <tr>\n",
       "      <td>406</td>\n",
       "      <td>head</td>\n",
       "      <td>0.001548</td>\n",
       "    </tr>\n",
       "    <tr>\n",
       "      <td>755</td>\n",
       "      <td>request</td>\n",
       "      <td>0.000774</td>\n",
       "    </tr>\n",
       "    <tr>\n",
       "      <td>450</td>\n",
       "      <td>internal</td>\n",
       "      <td>0.000774</td>\n",
       "    </tr>\n",
       "    <tr>\n",
       "      <td>687</td>\n",
       "      <td>portland</td>\n",
       "      <td>0.000000</td>\n",
       "    </tr>\n",
       "    <tr>\n",
       "      <td>677</td>\n",
       "      <td>pleted</td>\n",
       "      <td>0.000000</td>\n",
       "    </tr>\n",
       "    <tr>\n",
       "      <td>667</td>\n",
       "      <td>phone</td>\n",
       "      <td>0.000000</td>\n",
       "    </tr>\n",
       "  </tbody>\n",
       "</table>\n",
       "</div>"
      ],
      "text/plain": [
       "          columns    values\n",
       "446    initialize  0.999226\n",
       "309        engine  0.999226\n",
       "609      occurred  0.999226\n",
       "22             2a  0.999226\n",
       "114    attempting  0.999226\n",
       "146       borland  0.999226\n",
       "244  dbcaps97data  0.129257\n",
       "660       perform  0.129257\n",
       "191        closed  0.129257\n",
       "623     operation  0.129257\n",
       "812        server  0.002322\n",
       "406          head  0.001548\n",
       "755       request  0.000774\n",
       "450      internal  0.000774\n",
       "687      portland  0.000000\n",
       "677        pleted  0.000000\n",
       "667         phone  0.000000"
      ]
     },
     "execution_count": 45,
     "metadata": {},
     "output_type": "execute_result"
    }
   ],
   "source": [
    "most_important.sort_values(by='values', ascending=False)[3 : 20]"
   ]
  },
  {
   "cell_type": "markdown",
   "metadata": {},
   "source": [
    "__MLP__"
   ]
  },
  {
   "cell_type": "code",
   "execution_count": 46,
   "metadata": {},
   "outputs": [],
   "source": [
    "X = X.drop(columns=['message_length', 'labels_3', 'author'])"
   ]
  },
  {
   "cell_type": "code",
   "execution_count": 55,
   "metadata": {},
   "outputs": [],
   "source": [
    "from sklearn.model_selection import train_test_split\n",
    "\n",
    "X_train, X_test, y_train, y_test = train_test_split(X, y, test_size=0.25, random_state=42)"
   ]
  },
  {
   "cell_type": "code",
   "execution_count": 56,
   "metadata": {},
   "outputs": [],
   "source": [
    "ranges = [0.0001, 0.001, 0.01, 0.1, 1.0]"
   ]
  },
  {
   "cell_type": "code",
   "execution_count": 57,
   "metadata": {},
   "outputs": [
    {
     "data": {
      "text/plain": [
       "MLPClassifier(activation='relu', alpha=0.001, batch_size='auto', beta_1=0.9,\n",
       "              beta_2=0.999, early_stopping=False, epsilon=1e-08,\n",
       "              hidden_layer_sizes=(100,), learning_rate='constant',\n",
       "              learning_rate_init=0.001, max_iter=200, momentum=0.9,\n",
       "              n_iter_no_change=10, nesterovs_momentum=True, power_t=0.5,\n",
       "              random_state=None, shuffle=True, solver='lbfgs', tol=0.0001,\n",
       "              validation_fraction=0.1, verbose=False, warm_start=False)"
      ]
     },
     "execution_count": 57,
     "metadata": {},
     "output_type": "execute_result"
    }
   ],
   "source": [
    "from sklearn.neural_network import MLPClassifier\n",
    "\n",
    "#NOTE: This was already trained using GridSearchCV\n",
    "mlp = MLPClassifier(solver='lbfgs', activation='relu', alpha=0.001)\n",
    "mlp.fit(X_train, y_train)"
   ]
  },
  {
   "cell_type": "code",
   "execution_count": 58,
   "metadata": {},
   "outputs": [
    {
     "name": "stdout",
     "output_type": "stream",
     "text": [
      "The r^2 of our training data is 0.8177\n",
      "The r^2 of our test data is 0.6418\n"
     ]
    }
   ],
   "source": [
    "print('The r^2 of our training data is {}'.format(round(mlp.score(X_train, y_train), 4)))\n",
    "print('The r^2 of our test data is {}'.format(round(mlp.score(X_test, y_test), 4)))"
   ]
  },
  {
   "cell_type": "markdown",
   "metadata": {},
   "source": [
    "# Sampling by author"
   ]
  },
  {
   "cell_type": "code",
   "execution_count": 29,
   "metadata": {},
   "outputs": [
    {
     "data": {
      "text/plain": [
       "pete.davis@enron.com             23572\n",
       "sara.shackleton@enron.com        23572\n",
       "chris.germany@enron.com          23572\n",
       "jeff.dasovich@enron.com          23572\n",
       "kate.symes@enron.com             23572\n",
       "vince.kaminski@enron.com         23572\n",
       "steven.kean@enron.com            23572\n",
       "enron.announcements@enron.com    23572\n",
       "kay.mann@enron.com               23572\n",
       "tana.jones@enron.com             23572\n",
       "Name: author, dtype: int64"
      ]
     },
     "execution_count": 29,
     "metadata": {},
     "output_type": "execute_result"
    }
   ],
   "source": [
    "g = df.groupby('author')\n",
    "sample_df = g.apply(lambda x: x.sample(g.size().min()))\n",
    "#did our sampling work?\n",
    "sample_df.author.value_counts()"
   ]
  },
  {
   "cell_type": "code",
   "execution_count": 30,
   "metadata": {},
   "outputs": [],
   "source": [
    "import nltk\n",
    "from nltk.tokenize import word_tokenize\n",
    "from nltk.corpus import stopwords\n",
    "\n",
    "stop_words = stopwords.words('english')\n",
    "stop_words.extend(['enron', 'subject', 'email', 'said', 'enronenron', 'enronenroncc', 'www', 'youre'])\n",
    "stop_words.extend(names)\n",
    "\n",
    "nltk_stop_list = []\n",
    "\n",
    "for sentence in sample_df.sentence:\n",
    "    words = word_tokenize(sentence)\n",
    "    new_list = []\n",
    "    sentence = ' '\n",
    "    \n",
    "    for word in words:\n",
    "        if word not in stop_words:\n",
    "            new_list.append(word)\n",
    "    \n",
    "    sentence = sentence.join(new_list)\n",
    "    nltk_stop_list.append(sentence)\n",
    "    \n",
    "sample_df['nltk_sentence'] = nltk_stop_list"
   ]
  },
  {
   "cell_type": "code",
   "execution_count": 31,
   "metadata": {},
   "outputs": [],
   "source": [
    "from sklearn.feature_extraction.text import CountVectorizer\n",
    "\n",
    "vectorizer = CountVectorizer(stop_words='english', max_features=1000)\n",
    "\n",
    "vector = vectorizer.fit_transform(sample_df['nltk_sentence'])"
   ]
  },
  {
   "cell_type": "code",
   "execution_count": 32,
   "metadata": {},
   "outputs": [],
   "source": [
    "#set up our X and y values\n",
    "columns = vectorizer.get_feature_names()\n",
    "length = sample_df['message_length'].tolist()\n",
    "\n",
    "X = pd.DataFrame(vector.toarray(), columns=columns)\n",
    "X['message_length'] = length"
   ]
  },
  {
   "cell_type": "markdown",
   "metadata": {},
   "source": [
    "__Silhouette Coefficient__"
   ]
  },
  {
   "cell_type": "code",
   "execution_count": 53,
   "metadata": {},
   "outputs": [
    {
     "name": "stdout",
     "output_type": "stream",
     "text": [
      "Number of clusters: 1\n",
      "1 Clusters is no good\n",
      "\n",
      "Number of clusters: 2\n",
      "0.2397222810113407\n",
      "\n",
      "Number of clusters: 3\n",
      "0.22960353434589795\n",
      "\n",
      "Number of clusters: 4\n",
      "0.2185322454116063\n",
      "\n",
      "Number of clusters: 5\n",
      "0.06357383283210208\n",
      "\n",
      "Number of clusters: 6\n",
      "0.07342734715707767\n",
      "\n",
      "Number of clusters: 7\n",
      "0.07415389892820216\n",
      "\n",
      "Number of clusters: 8\n",
      "0.11390455690343823\n",
      "\n",
      "Number of clusters: 9\n",
      "0.07493298452442428\n",
      "\n",
      "Number of clusters: 10\n",
      "0.10963925547501407\n",
      "\n"
     ]
    }
   ],
   "source": [
    "from sklearn import metrics\n",
    "from sklearn.metrics import pairwise_distances\n",
    "from sklearn.cluster import KMeans\n",
    "from sklearn.preprocessing import normalize\n",
    "\n",
    "for i in range(1, 11):\n",
    "    try:\n",
    "        model = KMeans(n_clusters=i, random_state=42).fit(X.drop(columns='message_length'))\n",
    "        labels = model.labels_\n",
    "        print('Number of clusters: {}'.format(i))\n",
    "        print(metrics.silhouette_score(X.drop(columns='message_length'), labels, metric='euclidean'))\n",
    "        print('')\n",
    "    except:\n",
    "        print('{} Clusters is no good'.format(i))\n",
    "        print('')"
   ]
  },
  {
   "cell_type": "markdown",
   "metadata": {},
   "source": [
    "__Mean Shift__"
   ]
  },
  {
   "cell_type": "code",
   "execution_count": 54,
   "metadata": {
    "scrolled": true
   },
   "outputs": [
    {
     "name": "stdout",
     "output_type": "stream",
     "text": [
      "Number of estimated clusters: 1\n"
     ]
    }
   ],
   "source": [
    "from sklearn.cluster import MeanShift, estimate_bandwidth\n",
    "\n",
    "# Here we set the bandwidth. This function automatically derives a bandwidth\n",
    "# number based on an inspection of the distances among points in the data.\n",
    "bandwidth = estimate_bandwidth(X, quantile=0.2, n_samples=500)\n",
    "\n",
    "# Declare and fit the model.\n",
    "ms = MeanShift(bandwidth=bandwidth, bin_seeding=True)\n",
    "ms.fit(X)\n",
    "\n",
    "# Extract cluster assignments for each data point.\n",
    "labels = ms.labels_\n",
    "\n",
    "# Coordinates of the cluster centers.\n",
    "cluster_centers = ms.cluster_centers_\n",
    "\n",
    "# Count our clusters.\n",
    "n_clusters_ = len(np.unique(labels))\n",
    "\n",
    "print(\"Number of estimated clusters: {}\".format(n_clusters_))"
   ]
  },
  {
   "cell_type": "code",
   "execution_count": 33,
   "metadata": {},
   "outputs": [],
   "source": [
    "X['author'] = sample_df['author'].tolist()"
   ]
  },
  {
   "cell_type": "code",
   "execution_count": 34,
   "metadata": {},
   "outputs": [
    {
     "data": {
      "text/plain": [
       "KMeans(algorithm='auto', copy_x=True, init='k-means++', max_iter=300,\n",
       "       n_clusters=3, n_init=10, n_jobs=None, precompute_distances='auto',\n",
       "       random_state=42, tol=0.0001, verbose=0)"
      ]
     },
     "execution_count": 34,
     "metadata": {},
     "output_type": "execute_result"
    }
   ],
   "source": [
    "from sklearn.cluster import KMeans\n",
    "kmeans = KMeans(n_clusters=3, random_state=42)\n",
    "\n",
    "kmeans.fit(X.drop(columns=['message_length', 'author']))"
   ]
  },
  {
   "cell_type": "code",
   "execution_count": 35,
   "metadata": {
    "scrolled": true
   },
   "outputs": [
    {
     "data": {
      "text/plain": [
       "0    226309\n",
       "1      4771\n",
       "2      4640\n",
       "Name: labels_3, dtype: int64"
      ]
     },
     "execution_count": 35,
     "metadata": {},
     "output_type": "execute_result"
    }
   ],
   "source": [
    "X['labels_3'] = kmeans.labels_\n",
    "X.labels_3.value_counts()"
   ]
  },
  {
   "cell_type": "code",
   "execution_count": 36,
   "metadata": {
    "scrolled": false
   },
   "outputs": [
    {
     "data": {
      "text/plain": [
       "labels_3\n",
       "0    104.196324\n",
       "1    146.923496\n",
       "2     97.547198\n",
       "Name: message_length, dtype: float64"
      ]
     },
     "execution_count": 36,
     "metadata": {},
     "output_type": "execute_result"
    }
   ],
   "source": [
    "X.groupby('labels_3')['message_length'].mean()"
   ]
  },
  {
   "cell_type": "code",
   "execution_count": 37,
   "metadata": {},
   "outputs": [
    {
     "data": {
      "image/png": "[encoded data removed]",
      "text/plain": [
       "<Figure size 1296x432 with 3 Axes>"
      ]
     },
     "metadata": {
      "needs_background": "light"
     },
     "output_type": "display_data"
    }
   ],
   "source": [
    "plt.figure(figsize=(18, 6))\n",
    "plt.subplots_adjust(left=None, right=None, bottom=0.1, top=0.9, hspace=2.5)\n",
    "\n",
    "plt.subplot(1, 3, 1)\n",
    "sns.barplot(X.groupby('labels_3')['author'].value_counts()[0].index, X.groupby('labels_3')['author'].value_counts()[0])\n",
    "plt.title('Group 0')\n",
    "plt.xticks(rotation='vertical')\n",
    "\n",
    "plt.subplot(1, 3, 2)\n",
    "sns.barplot(X.groupby('labels_3')['author'].value_counts()[1].index, X.groupby('labels_3')['author'].value_counts()[1])\n",
    "plt.title('Group 1')\n",
    "plt.xticks(rotation='vertical')\n",
    "\n",
    "plt.subplot(1, 3, 3)\n",
    "sns.barplot(X.groupby('labels_3')['author'].value_counts()[2].index, X.groupby('labels_3')['author'].value_counts()[2])\n",
    "plt.title('Group 2')\n",
    "plt.xticks(rotation='vertical')\n",
    "\n",
    "plt.show()"
   ]
  },
  {
   "cell_type": "code",
   "execution_count": 38,
   "metadata": {},
   "outputs": [],
   "source": [
    "most_important = pd.DataFrame()\n",
    "\n",
    "most_important['columns'] = X.groupby('labels_3').mean().columns.tolist()\n",
    "most_important['values'] = X.groupby('labels_3').mean().loc[0, :].tolist()"
   ]
  },
  {
   "cell_type": "code",
   "execution_count": 39,
   "metadata": {},
   "outputs": [
    {
     "data": {
      "text/html": [
       "<div>\n",
       "<style scoped>\n",
       "    .dataframe tbody tr th:only-of-type {\n",
       "        vertical-align: middle;\n",
       "    }\n",
       "\n",
       "    .dataframe tbody tr th {\n",
       "        vertical-align: top;\n",
       "    }\n",
       "\n",
       "    .dataframe thead th {\n",
       "        text-align: right;\n",
       "    }\n",
       "</style>\n",
       "<table border=\"1\" class=\"dataframe\">\n",
       "  <thead>\n",
       "    <tr style=\"text-align: right;\">\n",
       "      <th></th>\n",
       "      <th>columns</th>\n",
       "      <th>values</th>\n",
       "    </tr>\n",
       "  </thead>\n",
       "  <tbody>\n",
       "    <tr>\n",
       "      <td>788</td>\n",
       "      <td>schedules</td>\n",
       "      <td>0.040193</td>\n",
       "    </tr>\n",
       "    <tr>\n",
       "      <td>153</td>\n",
       "      <td>california</td>\n",
       "      <td>0.036799</td>\n",
       "    </tr>\n",
       "    <tr>\n",
       "      <td>484</td>\n",
       "      <td>know</td>\n",
       "      <td>0.034970</td>\n",
       "    </tr>\n",
       "    <tr>\n",
       "      <td>310</td>\n",
       "      <td>energy</td>\n",
       "      <td>0.033295</td>\n",
       "    </tr>\n",
       "    <tr>\n",
       "      <td>684</td>\n",
       "      <td>power</td>\n",
       "      <td>0.032124</td>\n",
       "    </tr>\n",
       "    <tr>\n",
       "      <td>238</td>\n",
       "      <td>date</td>\n",
       "      <td>0.032005</td>\n",
       "    </tr>\n",
       "    <tr>\n",
       "      <td>375</td>\n",
       "      <td>forwarded</td>\n",
       "      <td>0.031647</td>\n",
       "    </tr>\n",
       "    <tr>\n",
       "      <td>828</td>\n",
       "      <td>sld</td>\n",
       "      <td>0.029888</td>\n",
       "    </tr>\n",
       "    <tr>\n",
       "      <td>361</td>\n",
       "      <td>final</td>\n",
       "      <td>0.029455</td>\n",
       "    </tr>\n",
       "    <tr>\n",
       "      <td>591</td>\n",
       "      <td>need</td>\n",
       "      <td>0.029274</td>\n",
       "    </tr>\n",
       "    <tr>\n",
       "      <td>673</td>\n",
       "      <td>pmto</td>\n",
       "      <td>0.029208</td>\n",
       "    </tr>\n",
       "    <tr>\n",
       "      <td>596</td>\n",
       "      <td>new</td>\n",
       "      <td>0.028934</td>\n",
       "    </tr>\n",
       "    <tr>\n",
       "      <td>165</td>\n",
       "      <td>cc</td>\n",
       "      <td>0.028196</td>\n",
       "    </tr>\n",
       "    <tr>\n",
       "      <td>672</td>\n",
       "      <td>pm</td>\n",
       "      <td>0.027591</td>\n",
       "    </tr>\n",
       "    <tr>\n",
       "      <td>425</td>\n",
       "      <td>hourahead</td>\n",
       "      <td>0.027511</td>\n",
       "    </tr>\n",
       "    <tr>\n",
       "      <td>293</td>\n",
       "      <td>ectectcc</td>\n",
       "      <td>0.027396</td>\n",
       "    </tr>\n",
       "    <tr>\n",
       "      <td>786</td>\n",
       "      <td>schedule</td>\n",
       "      <td>0.027171</td>\n",
       "    </tr>\n",
       "  </tbody>\n",
       "</table>\n",
       "</div>"
      ],
      "text/plain": [
       "        columns    values\n",
       "788   schedules  0.040193\n",
       "153  california  0.036799\n",
       "484        know  0.034970\n",
       "310      energy  0.033295\n",
       "684       power  0.032124\n",
       "238        date  0.032005\n",
       "375   forwarded  0.031647\n",
       "828         sld  0.029888\n",
       "361       final  0.029455\n",
       "591        need  0.029274\n",
       "673        pmto  0.029208\n",
       "596         new  0.028934\n",
       "165          cc  0.028196\n",
       "672          pm  0.027591\n",
       "425   hourahead  0.027511\n",
       "293    ectectcc  0.027396\n",
       "786    schedule  0.027171"
      ]
     },
     "execution_count": 39,
     "metadata": {},
     "output_type": "execute_result"
    }
   ],
   "source": [
    "most_important.sort_values(by='values', ascending=False)[3 : 20]"
   ]
  },
  {
   "cell_type": "code",
   "execution_count": 40,
   "metadata": {},
   "outputs": [],
   "source": [
    "most_important = pd.DataFrame()\n",
    "\n",
    "most_important['columns'] = X.groupby('labels_3').mean().columns.tolist()\n",
    "most_important['values'] = X.groupby('labels_3').mean().loc[1, :].tolist()"
   ]
  },
  {
   "cell_type": "code",
   "execution_count": 41,
   "metadata": {
    "scrolled": false
   },
   "outputs": [
    {
     "data": {
      "text/html": [
       "<div>\n",
       "<style scoped>\n",
       "    .dataframe tbody tr th:only-of-type {\n",
       "        vertical-align: middle;\n",
       "    }\n",
       "\n",
       "    .dataframe tbody tr th {\n",
       "        vertical-align: top;\n",
       "    }\n",
       "\n",
       "    .dataframe thead th {\n",
       "        text-align: right;\n",
       "    }\n",
       "</style>\n",
       "<table border=\"1\" class=\"dataframe\">\n",
       "  <thead>\n",
       "    <tr style=\"text-align: right;\">\n",
       "      <th></th>\n",
       "      <th>columns</th>\n",
       "      <th>values</th>\n",
       "    </tr>\n",
       "  </thead>\n",
       "  <tbody>\n",
       "    <tr>\n",
       "      <td>921</td>\n",
       "      <td>trans_type</td>\n",
       "      <td>1.000000</td>\n",
       "    </tr>\n",
       "    <tr>\n",
       "      <td>920</td>\n",
       "      <td>trans_date</td>\n",
       "      <td>0.984070</td>\n",
       "    </tr>\n",
       "    <tr>\n",
       "      <td>784</td>\n",
       "      <td>sc_id</td>\n",
       "      <td>0.984070</td>\n",
       "    </tr>\n",
       "    <tr>\n",
       "      <td>326</td>\n",
       "      <td>epmi</td>\n",
       "      <td>0.500943</td>\n",
       "    </tr>\n",
       "    <tr>\n",
       "      <td>312</td>\n",
       "      <td>engy</td>\n",
       "      <td>0.312932</td>\n",
       "    </tr>\n",
       "    <tr>\n",
       "      <td>918</td>\n",
       "      <td>trading_sc</td>\n",
       "      <td>0.312932</td>\n",
       "    </tr>\n",
       "    <tr>\n",
       "      <td>785</td>\n",
       "      <td>sched_type</td>\n",
       "      <td>0.312932</td>\n",
       "    </tr>\n",
       "    <tr>\n",
       "      <td>717</td>\n",
       "      <td>purch_sale</td>\n",
       "      <td>0.312932</td>\n",
       "    </tr>\n",
       "    <tr>\n",
       "      <td>248</td>\n",
       "      <td>deal_no</td>\n",
       "      <td>0.302662</td>\n",
       "    </tr>\n",
       "    <tr>\n",
       "      <td>674</td>\n",
       "      <td>pnt_of_intrc</td>\n",
       "      <td>0.302662</td>\n",
       "    </tr>\n",
       "    <tr>\n",
       "      <td>872</td>\n",
       "      <td>table</td>\n",
       "      <td>0.302033</td>\n",
       "    </tr>\n",
       "    <tr>\n",
       "      <td>954</td>\n",
       "      <td>variance</td>\n",
       "      <td>0.302033</td>\n",
       "    </tr>\n",
       "    <tr>\n",
       "      <td>313</td>\n",
       "      <td>engy_type</td>\n",
       "      <td>0.294907</td>\n",
       "    </tr>\n",
       "    <tr>\n",
       "      <td>904</td>\n",
       "      <td>tie_point</td>\n",
       "      <td>0.294907</td>\n",
       "    </tr>\n",
       "    <tr>\n",
       "      <td>451</td>\n",
       "      <td>interchg_id</td>\n",
       "      <td>0.294907</td>\n",
       "    </tr>\n",
       "    <tr>\n",
       "      <td>515</td>\n",
       "      <td>load_id</td>\n",
       "      <td>0.237476</td>\n",
       "    </tr>\n",
       "    <tr>\n",
       "      <td>424</td>\n",
       "      <td>hour</td>\n",
       "      <td>0.233075</td>\n",
       "    </tr>\n",
       "  </tbody>\n",
       "</table>\n",
       "</div>"
      ],
      "text/plain": [
       "          columns    values\n",
       "921    trans_type  1.000000\n",
       "920    trans_date  0.984070\n",
       "784         sc_id  0.984070\n",
       "326          epmi  0.500943\n",
       "312          engy  0.312932\n",
       "918    trading_sc  0.312932\n",
       "785    sched_type  0.312932\n",
       "717    purch_sale  0.312932\n",
       "248       deal_no  0.302662\n",
       "674  pnt_of_intrc  0.302662\n",
       "872         table  0.302033\n",
       "954      variance  0.302033\n",
       "313     engy_type  0.294907\n",
       "904     tie_point  0.294907\n",
       "451   interchg_id  0.294907\n",
       "515       load_id  0.237476\n",
       "424          hour  0.233075"
      ]
     },
     "execution_count": 41,
     "metadata": {},
     "output_type": "execute_result"
    }
   ],
   "source": [
    "most_important.sort_values(by='values', ascending=False)[3 : 20]"
   ]
  },
  {
   "cell_type": "code",
   "execution_count": 42,
   "metadata": {},
   "outputs": [],
   "source": [
    "most_important = pd.DataFrame()\n",
    "\n",
    "most_important['columns'] = X.groupby('labels_3').mean().columns.tolist()\n",
    "most_important['values'] = X.groupby('labels_3').mean().loc[2, :].tolist()"
   ]
  },
  {
   "cell_type": "code",
   "execution_count": 43,
   "metadata": {},
   "outputs": [
    {
     "data": {
      "text/html": [
       "<div>\n",
       "<style scoped>\n",
       "    .dataframe tbody tr th:only-of-type {\n",
       "        vertical-align: middle;\n",
       "    }\n",
       "\n",
       "    .dataframe tbody tr th {\n",
       "        vertical-align: top;\n",
       "    }\n",
       "\n",
       "    .dataframe thead th {\n",
       "        text-align: right;\n",
       "    }\n",
       "</style>\n",
       "<table border=\"1\" class=\"dataframe\">\n",
       "  <thead>\n",
       "    <tr style=\"text-align: right;\">\n",
       "      <th></th>\n",
       "      <th>columns</th>\n",
       "      <th>values</th>\n",
       "    </tr>\n",
       "  </thead>\n",
       "  <tbody>\n",
       "    <tr>\n",
       "      <td>22</td>\n",
       "      <td>2a</td>\n",
       "      <td>0.999138</td>\n",
       "    </tr>\n",
       "    <tr>\n",
       "      <td>311</td>\n",
       "      <td>engine</td>\n",
       "      <td>0.999138</td>\n",
       "    </tr>\n",
       "    <tr>\n",
       "      <td>143</td>\n",
       "      <td>borland</td>\n",
       "      <td>0.999138</td>\n",
       "    </tr>\n",
       "    <tr>\n",
       "      <td>113</td>\n",
       "      <td>attempting</td>\n",
       "      <td>0.999138</td>\n",
       "    </tr>\n",
       "    <tr>\n",
       "      <td>609</td>\n",
       "      <td>occurred</td>\n",
       "      <td>0.999138</td>\n",
       "    </tr>\n",
       "    <tr>\n",
       "      <td>448</td>\n",
       "      <td>initialize</td>\n",
       "      <td>0.999138</td>\n",
       "    </tr>\n",
       "    <tr>\n",
       "      <td>245</td>\n",
       "      <td>dbcaps97data</td>\n",
       "      <td>0.127802</td>\n",
       "    </tr>\n",
       "    <tr>\n",
       "      <td>189</td>\n",
       "      <td>closed</td>\n",
       "      <td>0.127802</td>\n",
       "    </tr>\n",
       "    <tr>\n",
       "      <td>654</td>\n",
       "      <td>perform</td>\n",
       "      <td>0.127802</td>\n",
       "    </tr>\n",
       "    <tr>\n",
       "      <td>620</td>\n",
       "      <td>operation</td>\n",
       "      <td>0.127802</td>\n",
       "    </tr>\n",
       "    <tr>\n",
       "      <td>806</td>\n",
       "      <td>server</td>\n",
       "      <td>0.002586</td>\n",
       "    </tr>\n",
       "    <tr>\n",
       "      <td>453</td>\n",
       "      <td>internal</td>\n",
       "      <td>0.000862</td>\n",
       "    </tr>\n",
       "    <tr>\n",
       "      <td>750</td>\n",
       "      <td>request</td>\n",
       "      <td>0.000862</td>\n",
       "    </tr>\n",
       "    <tr>\n",
       "      <td>522</td>\n",
       "      <td>longer</td>\n",
       "      <td>0.000000</td>\n",
       "    </tr>\n",
       "    <tr>\n",
       "      <td>523</td>\n",
       "      <td>longterm</td>\n",
       "      <td>0.000000</td>\n",
       "    </tr>\n",
       "    <tr>\n",
       "      <td>669</td>\n",
       "      <td>plete</td>\n",
       "      <td>0.000000</td>\n",
       "    </tr>\n",
       "    <tr>\n",
       "      <td>670</td>\n",
       "      <td>pleted</td>\n",
       "      <td>0.000000</td>\n",
       "    </tr>\n",
       "  </tbody>\n",
       "</table>\n",
       "</div>"
      ],
      "text/plain": [
       "          columns    values\n",
       "22             2a  0.999138\n",
       "311        engine  0.999138\n",
       "143       borland  0.999138\n",
       "113    attempting  0.999138\n",
       "609      occurred  0.999138\n",
       "448    initialize  0.999138\n",
       "245  dbcaps97data  0.127802\n",
       "189        closed  0.127802\n",
       "654       perform  0.127802\n",
       "620     operation  0.127802\n",
       "806        server  0.002586\n",
       "453      internal  0.000862\n",
       "750       request  0.000862\n",
       "522        longer  0.000000\n",
       "523      longterm  0.000000\n",
       "669         plete  0.000000\n",
       "670        pleted  0.000000"
      ]
     },
     "execution_count": 43,
     "metadata": {},
     "output_type": "execute_result"
    }
   ],
   "source": [
    "most_important.sort_values(by='values', ascending=False)[3 : 20]"
   ]
  },
  {
   "cell_type": "markdown",
   "metadata": {},
   "source": [
    "__MLP__"
   ]
  },
  {
   "cell_type": "code",
   "execution_count": 79,
   "metadata": {},
   "outputs": [],
   "source": [
    "X = X.drop(columns=['message_length', 'labels_3', 'author'])\n",
    "y = sample_df['author']"
   ]
  },
  {
   "cell_type": "code",
   "execution_count": 83,
   "metadata": {},
   "outputs": [],
   "source": [
    "from sklearn.model_selection import train_test_split\n",
    "\n",
    "X_train, X_test, y_train, y_test = train_test_split(X, y, test_size=0.25, random_state=42)"
   ]
  },
  {
   "cell_type": "code",
   "execution_count": 85,
   "metadata": {},
   "outputs": [
    {
     "data": {
      "text/plain": [
       "MLPClassifier(activation='relu', alpha=0.001, batch_size='auto', beta_1=0.9,\n",
       "              beta_2=0.999, early_stopping=False, epsilon=1e-08,\n",
       "              hidden_layer_sizes=(100,), learning_rate='constant',\n",
       "              learning_rate_init=0.001, max_iter=200, momentum=0.9,\n",
       "              n_iter_no_change=10, nesterovs_momentum=True, power_t=0.5,\n",
       "              random_state=None, shuffle=True, solver='lbfgs', tol=0.0001,\n",
       "              validation_fraction=0.1, verbose=False, warm_start=False)"
      ]
     },
     "execution_count": 85,
     "metadata": {},
     "output_type": "execute_result"
    }
   ],
   "source": [
    "from sklearn.neural_network import MLPClassifier\n",
    "\n",
    "#NOTE: This was already trained using GridSearchCV\n",
    "mlp = MLPClassifier(solver='lbfgs', activation='relu', alpha=0.001)\n",
    "mlp.fit(X_train, y_train)"
   ]
  },
  {
   "cell_type": "code",
   "execution_count": 86,
   "metadata": {},
   "outputs": [
    {
     "name": "stdout",
     "output_type": "stream",
     "text": [
      "The r^2 of our training data is 0.7348\n",
      "The r^2 of our test data is 0.6587\n"
     ]
    }
   ],
   "source": [
    "print('The r^2 of our training data is {}'.format(round(mlp.score(X_train, y_train), 4)))\n",
    "print('The r^2 of our test data is {}'.format(round(mlp.score(X_test, y_test), 4)))"
   ]
  },
  {
   "cell_type": "markdown",
   "metadata": {},
   "source": [
    "__Sampling seems to give us about the same R^2 value on our test set, but greatly reduces the difference between our train and test set.__\n",
    "\n",
    "__The differences between Group 1 and Group 2 above are very interesting. They both have, almost entirely, only one author. My assumption is that he has a technical role where his audience is very different.__\n",
    "\n",
    "__I would assume that his audience in Group 1 also have technical roles. We can see this in the use of snake_case - often used in technical roles.__\n",
    "\n",
    "__He still uses some technical type lingo in Group 2, but I assume this is for a non-technical audience. Words in this group include initalize, server, and request.__"
   ]
  },
  {
   "cell_type": "code",
   "execution_count": 53,
   "metadata": {},
   "outputs": [],
   "source": [
    "sample_df['labels'] = kmeans.labels_\n",
    "\n",
    "group_1 = sample_df.loc[sample_df.labels == 1]\n",
    "group_2 = sample_df.loc[sample_df.labels == 2]"
   ]
  },
  {
   "cell_type": "code",
   "execution_count": 66,
   "metadata": {},
   "outputs": [
    {
     "name": "stdout",
     "output_type": "stream",
     "text": [
      "More technical Role\n",
      "\n",
      "98)  trans_type: final  load_id: pge2  mkt_type: 2  trans_date: 4/19/  sc_id: epmi$$$ variance found in table tblloads\n",
      "\n",
      "  trans_type: final  sc_id: epmi  mkt_type: 2  trans_date: 4/17/  trading_sc: ncpa  pnt_of_intrc: np15  sched_type: engy  purch_sale: 2  deal_no: 1+++ hour 17  bad data from iso\n",
      "\n",
      "97)  trans_type: final  sc_id: ectrt  mkt_type: 2  trans_date: 4//  tie_point: pverde_5_devers  interchg_id: epmi_ciso_desert  engy_type: firm\n",
      "\n",
      "  trans_type: final  sc_id: epmi  mkt_type: 2  trans_date: 4/19/  trading_sc: sdg3  pnt_of_intrc: sp15  sched_type: engy  purch_sale: 2  deal_no: 1+++ hour 21  bad data from iso\n",
      "\n",
      "  trans_type: final  sc_id: epmi  mkt_type: 2  trans_date: 4/16/  trading_sc: pgae  pnt_of_intrc: np15  sched_type: engy  purch_sale: 2  deal_no: 1\n",
      "\n",
      "00)  trans_type: final  sc_id: ectrt  mkt_type: 2  trans_date: /18/  tie_point: pverde_5_devers  interchg_id: epmi_ciso_srp  engy_type: firm\n",
      "\n",
      "  trans_type: final  sc_id: epmi  mkt_type: 2  trans_date: 4/17/  trading_sc: crlp  pnt_of_intrc: np15  sched_type: engy  purch_sale: 2  deal_no: 1+++ hour 17  bad data from iso\n",
      "\n",
      "     details:  trans_type: final  sc_id: harbor  mkt_type: 2  trans_date: 4/21/  unit_id: harbgn_7_units\n",
      "\n",
      "  trans_type: final  sc_id: epmi  mkt_type: 2  trans_date: 4/14/  trading_sc: ncpa  pnt_of_intrc: zp26  sched_type: engy  purch_sale: 2  deal_no: 1\n",
      "\n",
      "  trans_type: final  sc_id: epmi  mkt_type: 2  trans_date: 4/16/  trading_sc: pgae  pnt_of_intrc: np15  sched_type: engy  purch_sale: 2  deal_no: 1\n",
      "\n",
      "Not so technical role\n",
      "\n",
      "<html><head><title>server error</title></head><body><h1>server error</h1>this server has encountered an internal error which prevents it from fulfilling your request\n",
      "\n",
      "an error occurred while attempting to initialize the borland database engine (error $2a)\n",
      "\n",
      "an error occurred while attempting to initialize the borland database engine (error $2a)\n",
      "\n",
      "an error occurred while attempting to initialize the borland database engine (error $2a)\n",
      "\n",
      "an error occurred while attempting to initialize the borland database engine (error $2a)\n",
      "\n",
      "an error occurred while attempting to initialize the borland database engine (error $2a)\n",
      "\n",
      "an error occurred while attempting to initialize the borland database engine (error $2a)\n",
      "\n",
      "an error occurred while attempting to initialize the borland database engine (error $2a)\n",
      "\n",
      "an error occurred while attempting to initialize the borland database engine (error $2a)\n",
      "\n",
      "an error occurred while attempting to initialize the borland database engine (error $2a)\n",
      "\n"
     ]
    }
   ],
   "source": [
    "print('More technical Role')\n",
    "print('')\n",
    "\n",
    "for i in range(1000):\n",
    "    if i % 100 == 0:\n",
    "        print(group_1['sentence'][i])\n",
    "        print('')\n",
    "    \n",
    "print('Not so technical role')\n",
    "print('')\n",
    "\n",
    "for i in range(1000):\n",
    "    if i % 100 == 0:\n",
    "        print(group_2['sentence'][i])\n",
    "        print('')"
   ]
  },
  {
   "cell_type": "markdown",
   "metadata": {},
   "source": [
    "__Whoa, very odd. Maybe Pete had an automated system that sent the same reporting/error messages to the company?__"
   ]
  }
 ],
 "metadata": {
  "kernelspec": {
   "display_name": "Python 3",
   "language": "python",
   "name": "python3"
  },
  "language_info": {
   "codemirror_mode": {
    "name": "ipython",
    "version": 3
   },
   "file_extension": ".py",
   "mimetype": "text/x-python",
   "name": "python",
   "nbconvert_exporter": "python",
   "pygments_lexer": "ipython3",
   "version": "3.7.4"
  }
 },
 "nbformat": 4,
 "nbformat_minor": 2
}
